{
  "cells": [
    {
      "cell_type": "code",
      "execution_count": null,
      "metadata": {
        "id": "K5dX-6FuZXyo"
      },
      "outputs": [],
      "source": [
        "# Imports\n",
        "import pandas as pd\n",
        "import numpy as np\n",
        "from sklearn.tree import DecisionTreeClassifier\n",
        "from sklearn.model_selection import train_test_split\n",
        "from sklearn.metrics import accuracy_score"
      ]
    },
    {
      "cell_type": "code",
      "execution_count": null,
      "metadata": {
        "id": "A2h-7VCVZXyt"
      },
      "outputs": [],
      "source": [
        "# Read in the spikeball csv\n",
        "url = 'https://raw.githubusercontent.com/ishaandey/node/master/week-7/workshop/dt/spikeball.csv'\n",
        "df = pd.read_csv(url)"
      ]
    },
    {
      "cell_type": "code",
      "execution_count": null,
      "metadata": {
        "colab": {
          "base_uri": "https://localhost:8080/",
          "height": 373
        },
        "id": "32JL-0GkZXyu",
        "outputId": "21db9c4d-993f-4319-a095-073201c1c3a3"
      },
      "outputs": [
        {
          "data": {
            "text/html": [
              "<div>\n",
              "<style scoped>\n",
              "    .dataframe tbody tr th:only-of-type {\n",
              "        vertical-align: middle;\n",
              "    }\n",
              "\n",
              "    .dataframe tbody tr th {\n",
              "        vertical-align: top;\n",
              "    }\n",
              "\n",
              "    .dataframe thead th {\n",
              "        text-align: right;\n",
              "    }\n",
              "</style>\n",
              "<table border=\"1\" class=\"dataframe\">\n",
              "  <thead>\n",
              "    <tr style=\"text-align: right;\">\n",
              "      <th></th>\n",
              "      <th>weather</th>\n",
              "      <th>temp</th>\n",
              "      <th>friends_free</th>\n",
              "      <th>played_spikeball</th>\n",
              "    </tr>\n",
              "  </thead>\n",
              "  <tbody>\n",
              "    <tr>\n",
              "      <th>0</th>\n",
              "      <td>Sunny</td>\n",
              "      <td>40</td>\n",
              "      <td>4</td>\n",
              "      <td>0</td>\n",
              "    </tr>\n",
              "    <tr>\n",
              "      <th>1</th>\n",
              "      <td>Sunny</td>\n",
              "      <td>70</td>\n",
              "      <td>1</td>\n",
              "      <td>0</td>\n",
              "    </tr>\n",
              "    <tr>\n",
              "      <th>2</th>\n",
              "      <td>Sunny</td>\n",
              "      <td>75</td>\n",
              "      <td>3</td>\n",
              "      <td>1</td>\n",
              "    </tr>\n",
              "    <tr>\n",
              "      <th>3</th>\n",
              "      <td>Partly Cloudy</td>\n",
              "      <td>55</td>\n",
              "      <td>4</td>\n",
              "      <td>1</td>\n",
              "    </tr>\n",
              "    <tr>\n",
              "      <th>4</th>\n",
              "      <td>Partly Cloudy</td>\n",
              "      <td>50</td>\n",
              "      <td>3</td>\n",
              "      <td>0</td>\n",
              "    </tr>\n",
              "    <tr>\n",
              "      <th>5</th>\n",
              "      <td>Cloudy</td>\n",
              "      <td>40</td>\n",
              "      <td>4</td>\n",
              "      <td>0</td>\n",
              "    </tr>\n",
              "    <tr>\n",
              "      <th>6</th>\n",
              "      <td>Cloudy</td>\n",
              "      <td>75</td>\n",
              "      <td>5</td>\n",
              "      <td>1</td>\n",
              "    </tr>\n",
              "    <tr>\n",
              "      <th>7</th>\n",
              "      <td>Rainy</td>\n",
              "      <td>40</td>\n",
              "      <td>1</td>\n",
              "      <td>0</td>\n",
              "    </tr>\n",
              "    <tr>\n",
              "      <th>8</th>\n",
              "      <td>Rainy</td>\n",
              "      <td>70</td>\n",
              "      <td>3</td>\n",
              "      <td>0</td>\n",
              "    </tr>\n",
              "    <tr>\n",
              "      <th>9</th>\n",
              "      <td>Rainy</td>\n",
              "      <td>75</td>\n",
              "      <td>5</td>\n",
              "      <td>0</td>\n",
              "    </tr>\n",
              "    <tr>\n",
              "      <th>10</th>\n",
              "      <td>Sunny</td>\n",
              "      <td>40</td>\n",
              "      <td>3</td>\n",
              "      <td>0</td>\n",
              "    </tr>\n",
              "  </tbody>\n",
              "</table>\n",
              "</div>"
            ],
            "text/plain": [
              "          weather  temp  friends_free  played_spikeball\n",
              "0           Sunny    40             4                 0\n",
              "1           Sunny    70             1                 0\n",
              "2           Sunny    75             3                 1\n",
              "3   Partly Cloudy    55             4                 1\n",
              "4   Partly Cloudy    50             3                 0\n",
              "5          Cloudy    40             4                 0\n",
              "6          Cloudy    75             5                 1\n",
              "7           Rainy    40             1                 0\n",
              "8           Rainy    70             3                 0\n",
              "9           Rainy    75             5                 0\n",
              "10          Sunny    40             3                 0"
            ]
          },
          "execution_count": 3,
          "metadata": {},
          "output_type": "execute_result"
        }
      ],
      "source": [
        "# Take a look at the data\n",
        "df"
      ]
    },
    {
      "cell_type": "markdown",
      "metadata": {
        "id": "jyyfnkEiZXyu"
      },
      "source": [
        "Decision trees cannot classify with the strings in the \"weather\" column. We will use pandas.get_dummies to one-hot encode the column. Pandas knows to only modify categorical columns. The \"temperature\", \"friends_free\", and \"played_spikeball\" columns will not change."
      ]
    },
    {
      "cell_type": "code",
      "execution_count": null,
      "metadata": {
        "colab": {
          "base_uri": "https://localhost:8080/",
          "height": 195
        },
        "id": "MD1tH5zTZXyv",
        "outputId": "1261d948-2d8d-4a19-96e5-86dcea82c9cd"
      },
      "outputs": [
        {
          "data": {
            "text/html": [
              "<div>\n",
              "<style scoped>\n",
              "    .dataframe tbody tr th:only-of-type {\n",
              "        vertical-align: middle;\n",
              "    }\n",
              "\n",
              "    .dataframe tbody tr th {\n",
              "        vertical-align: top;\n",
              "    }\n",
              "\n",
              "    .dataframe thead th {\n",
              "        text-align: right;\n",
              "    }\n",
              "</style>\n",
              "<table border=\"1\" class=\"dataframe\">\n",
              "  <thead>\n",
              "    <tr style=\"text-align: right;\">\n",
              "      <th></th>\n",
              "      <th>temp</th>\n",
              "      <th>friends_free</th>\n",
              "      <th>played_spikeball</th>\n",
              "      <th>weather_Cloudy</th>\n",
              "      <th>weather_Partly Cloudy</th>\n",
              "      <th>weather_Rainy</th>\n",
              "      <th>weather_Sunny</th>\n",
              "    </tr>\n",
              "  </thead>\n",
              "  <tbody>\n",
              "    <tr>\n",
              "      <th>0</th>\n",
              "      <td>40</td>\n",
              "      <td>4</td>\n",
              "      <td>0</td>\n",
              "      <td>0</td>\n",
              "      <td>0</td>\n",
              "      <td>0</td>\n",
              "      <td>1</td>\n",
              "    </tr>\n",
              "    <tr>\n",
              "      <th>1</th>\n",
              "      <td>70</td>\n",
              "      <td>1</td>\n",
              "      <td>0</td>\n",
              "      <td>0</td>\n",
              "      <td>0</td>\n",
              "      <td>0</td>\n",
              "      <td>1</td>\n",
              "    </tr>\n",
              "    <tr>\n",
              "      <th>2</th>\n",
              "      <td>75</td>\n",
              "      <td>3</td>\n",
              "      <td>1</td>\n",
              "      <td>0</td>\n",
              "      <td>0</td>\n",
              "      <td>0</td>\n",
              "      <td>1</td>\n",
              "    </tr>\n",
              "    <tr>\n",
              "      <th>3</th>\n",
              "      <td>55</td>\n",
              "      <td>4</td>\n",
              "      <td>1</td>\n",
              "      <td>0</td>\n",
              "      <td>1</td>\n",
              "      <td>0</td>\n",
              "      <td>0</td>\n",
              "    </tr>\n",
              "    <tr>\n",
              "      <th>4</th>\n",
              "      <td>50</td>\n",
              "      <td>3</td>\n",
              "      <td>0</td>\n",
              "      <td>0</td>\n",
              "      <td>1</td>\n",
              "      <td>0</td>\n",
              "      <td>0</td>\n",
              "    </tr>\n",
              "  </tbody>\n",
              "</table>\n",
              "</div>"
            ],
            "text/plain": [
              "   temp  friends_free  played_spikeball  weather_Cloudy  \\\n",
              "0    40             4                 0               0   \n",
              "1    70             1                 0               0   \n",
              "2    75             3                 1               0   \n",
              "3    55             4                 1               0   \n",
              "4    50             3                 0               0   \n",
              "\n",
              "   weather_Partly Cloudy  weather_Rainy  weather_Sunny  \n",
              "0                      0              0              1  \n",
              "1                      0              0              1  \n",
              "2                      0              0              1  \n",
              "3                      1              0              0  \n",
              "4                      1              0              0  "
            ]
          },
          "execution_count": 4,
          "metadata": {},
          "output_type": "execute_result"
        }
      ],
      "source": [
        "# One hot encode the weather column\n",
        "df = pd.get_dummies(df)\n",
        "df.head()"
      ]
    },
    {
      "cell_type": "code",
      "execution_count": null,
      "metadata": {
        "id": "FtXJKJl3ZXyv"
      },
      "outputs": [],
      "source": [
        "# Break into training and testing\n",
        "train = df.drop(10)\n",
        "test = df.iloc[[10]]"
      ]
    },
    {
      "cell_type": "code",
      "execution_count": null,
      "metadata": {
        "id": "9-M8B8STZXyw"
      },
      "outputs": [],
      "source": [
        "# Divide the data into features (X) and labels (y)\n",
        "X_train = train.drop('played_spikeball', axis=1)\n",
        "X_test = test.drop('played_spikeball', axis=1)\n",
        "y_train = train['played_spikeball']\n",
        "y_test = test['played_spikeball']"
      ]
    },
    {
      "cell_type": "code",
      "execution_count": null,
      "metadata": {
        "colab": {
          "base_uri": "https://localhost:8080/"
        },
        "id": "rVOGntU5ZXyw",
        "outputId": "954c15ec-4d77-4ac7-9bfe-da6b0725926d"
      },
      "outputs": [
        {
          "data": {
            "text/plain": [
              "DecisionTreeClassifier()"
            ]
          },
          "execution_count": 7,
          "metadata": {},
          "output_type": "execute_result"
        }
      ],
      "source": [
        "# Fit a DecisionTreeClassifier to the training data\n",
        "clf = DecisionTreeClassifier()\n",
        "clf.fit(X_train, y_train)"
      ]
    },
    {
      "cell_type": "code",
      "execution_count": null,
      "metadata": {
        "colab": {
          "base_uri": "https://localhost:8080/",
          "height": 77
        },
        "id": "GvIgrRYDaAje",
        "outputId": "36cbfca9-b69c-4d63-9c80-c2d563b8d3de"
      },
      "outputs": [
        {
          "data": {
            "text/html": [
              "<div>\n",
              "<style scoped>\n",
              "    .dataframe tbody tr th:only-of-type {\n",
              "        vertical-align: middle;\n",
              "    }\n",
              "\n",
              "    .dataframe tbody tr th {\n",
              "        vertical-align: top;\n",
              "    }\n",
              "\n",
              "    .dataframe thead th {\n",
              "        text-align: right;\n",
              "    }\n",
              "</style>\n",
              "<table border=\"1\" class=\"dataframe\">\n",
              "  <thead>\n",
              "    <tr style=\"text-align: right;\">\n",
              "      <th></th>\n",
              "      <th>temp</th>\n",
              "      <th>friends_free</th>\n",
              "      <th>weather_Cloudy</th>\n",
              "      <th>weather_Partly Cloudy</th>\n",
              "      <th>weather_Rainy</th>\n",
              "      <th>weather_Sunny</th>\n",
              "    </tr>\n",
              "  </thead>\n",
              "  <tbody>\n",
              "    <tr>\n",
              "      <th>10</th>\n",
              "      <td>40</td>\n",
              "      <td>3</td>\n",
              "      <td>0</td>\n",
              "      <td>0</td>\n",
              "      <td>0</td>\n",
              "      <td>1</td>\n",
              "    </tr>\n",
              "  </tbody>\n",
              "</table>\n",
              "</div>"
            ],
            "text/plain": [
              "    temp  friends_free  weather_Cloudy  weather_Partly Cloudy  weather_Rainy  \\\n",
              "10    40             3               0                      0              0   \n",
              "\n",
              "    weather_Sunny  \n",
              "10              1  "
            ]
          },
          "execution_count": 8,
          "metadata": {},
          "output_type": "execute_result"
        }
      ],
      "source": [
        "# Take a look at X_test\n",
        "X_test"
      ]
    },
    {
      "cell_type": "code",
      "execution_count": null,
      "metadata": {
        "colab": {
          "base_uri": "https://localhost:8080/"
        },
        "id": "E5m43lxtZXyw",
        "outputId": "e84f452d-61d9-474f-f41e-1894cfa8f678"
      },
      "outputs": [
        {
          "data": {
            "text/plain": [
              "array([0])"
            ]
          },
          "execution_count": 9,
          "metadata": {},
          "output_type": "execute_result"
        }
      ],
      "source": [
        "# Predict on X_test\n",
        "clf.predict(X_test)"
      ]
    },
    {
      "cell_type": "markdown",
      "metadata": {
        "id": "o0Iy7bj9ZXyx"
      },
      "source": [
        "Cool! It predicted that we wouldn't play Spikeball. Let's take a look under the hood at what's going on here."
      ]
    },
    {
      "cell_type": "code",
      "execution_count": null,
      "metadata": {
        "colab": {
          "base_uri": "https://localhost:8080/",
          "height": 598
        },
        "id": "T0_imIW8ZXyx",
        "outputId": "9999d46a-ee87-488a-83b0-b950031e2cd8"
      },
      "outputs": [
        {
          "data": {
            "image/svg+xml": [
              "<?xml version=\"1.0\" encoding=\"UTF-8\" standalone=\"no\"?>\n",
              "<!DOCTYPE svg PUBLIC \"-//W3C//DTD SVG 1.1//EN\"\n",
              " \"http://www.w3.org/Graphics/SVG/1.1/DTD/svg11.dtd\">\n",
              "<!-- Generated by graphviz version 2.40.1 (20161225.0304)\n",
              " -->\n",
              "<!-- Title: Tree Pages: 1 -->\n",
              "<svg width=\"315pt\" height=\"433pt\"\n",
              " viewBox=\"0.00 0.00 315.00 433.00\" xmlns=\"http://www.w3.org/2000/svg\" xmlns:xlink=\"http://www.w3.org/1999/xlink\">\n",
              "<g id=\"graph0\" class=\"graph\" transform=\"scale(1 1) rotate(0) translate(4 429)\">\n",
              "<title>Tree</title>\n",
              "<polygon fill=\"#ffffff\" stroke=\"transparent\" points=\"-4,4 -4,-429 311,-429 311,4 -4,4\"/>\n",
              "<!-- 0 -->\n",
              "<g id=\"node1\" class=\"node\">\n",
              "<title>0</title>\n",
              "<path fill=\"#f0b78e\" stroke=\"#000000\" d=\"M165,-425C165,-425 78,-425 78,-425 72,-425 66,-419 66,-413 66,-413 66,-354 66,-354 66,-348 72,-342 78,-342 78,-342 165,-342 165,-342 171,-342 177,-348 177,-354 177,-354 177,-413 177,-413 177,-419 171,-425 165,-425\"/>\n",
              "<text text-anchor=\"middle\" x=\"121.5\" y=\"-409.8\" font-family=\"Helvetica,sans-Serif\" font-size=\"14.00\" fill=\"#000000\">temp &lt;= 52.5</text>\n",
              "<text text-anchor=\"middle\" x=\"121.5\" y=\"-394.8\" font-family=\"Helvetica,sans-Serif\" font-size=\"14.00\" fill=\"#000000\">gini = 0.42</text>\n",
              "<text text-anchor=\"middle\" x=\"121.5\" y=\"-379.8\" font-family=\"Helvetica,sans-Serif\" font-size=\"14.00\" fill=\"#000000\">samples = 10</text>\n",
              "<text text-anchor=\"middle\" x=\"121.5\" y=\"-364.8\" font-family=\"Helvetica,sans-Serif\" font-size=\"14.00\" fill=\"#000000\">value = [7, 3]</text>\n",
              "<text text-anchor=\"middle\" x=\"121.5\" y=\"-349.8\" font-family=\"Helvetica,sans-Serif\" font-size=\"14.00\" fill=\"#000000\">class = No Spikeball</text>\n",
              "</g>\n",
              "<!-- 1 -->\n",
              "<g id=\"node2\" class=\"node\">\n",
              "<title>1</title>\n",
              "<path fill=\"#e58139\" stroke=\"#000000\" d=\"M99,-298.5C99,-298.5 12,-298.5 12,-298.5 6,-298.5 0,-292.5 0,-286.5 0,-286.5 0,-242.5 0,-242.5 0,-236.5 6,-230.5 12,-230.5 12,-230.5 99,-230.5 99,-230.5 105,-230.5 111,-236.5 111,-242.5 111,-242.5 111,-286.5 111,-286.5 111,-292.5 105,-298.5 99,-298.5\"/>\n",
              "<text text-anchor=\"middle\" x=\"55.5\" y=\"-283.3\" font-family=\"Helvetica,sans-Serif\" font-size=\"14.00\" fill=\"#000000\">gini = 0.0</text>\n",
              "<text text-anchor=\"middle\" x=\"55.5\" y=\"-268.3\" font-family=\"Helvetica,sans-Serif\" font-size=\"14.00\" fill=\"#000000\">samples = 4</text>\n",
              "<text text-anchor=\"middle\" x=\"55.5\" y=\"-253.3\" font-family=\"Helvetica,sans-Serif\" font-size=\"14.00\" fill=\"#000000\">value = [4, 0]</text>\n",
              "<text text-anchor=\"middle\" x=\"55.5\" y=\"-238.3\" font-family=\"Helvetica,sans-Serif\" font-size=\"14.00\" fill=\"#000000\">class = No Spikeball</text>\n",
              "</g>\n",
              "<!-- 0&#45;&gt;1 -->\n",
              "<g id=\"edge1\" class=\"edge\">\n",
              "<title>0&#45;&gt;1</title>\n",
              "<path fill=\"none\" stroke=\"#000000\" d=\"M98.4164,-341.8796C92.2567,-330.7735 85.5889,-318.7513 79.3871,-307.5691\"/>\n",
              "<polygon fill=\"#000000\" stroke=\"#000000\" points=\"82.4428,-305.8624 74.5318,-298.8149 76.3213,-309.2576 82.4428,-305.8624\"/>\n",
              "<text text-anchor=\"middle\" x=\"67.6466\" y=\"-319.1481\" font-family=\"Helvetica,sans-Serif\" font-size=\"14.00\" fill=\"#000000\">True</text>\n",
              "</g>\n",
              "<!-- 2 -->\n",
              "<g id=\"node3\" class=\"node\">\n",
              "<title>2</title>\n",
              "<path fill=\"#ffffff\" stroke=\"#000000\" d=\"M236,-306C236,-306 141,-306 141,-306 135,-306 129,-300 129,-294 129,-294 129,-235 129,-235 129,-229 135,-223 141,-223 141,-223 236,-223 236,-223 242,-223 248,-229 248,-235 248,-235 248,-294 248,-294 248,-300 242,-306 236,-306\"/>\n",
              "<text text-anchor=\"middle\" x=\"188.5\" y=\"-290.8\" font-family=\"Helvetica,sans-Serif\" font-size=\"14.00\" fill=\"#000000\">weather_Rainy &lt;= 0.5</text>\n",
              "<text text-anchor=\"middle\" x=\"188.5\" y=\"-275.8\" font-family=\"Helvetica,sans-Serif\" font-size=\"14.00\" fill=\"#000000\">gini = 0.5</text>\n",
              "<text text-anchor=\"middle\" x=\"188.5\" y=\"-260.8\" font-family=\"Helvetica,sans-Serif\" font-size=\"14.00\" fill=\"#000000\">samples = 6</text>\n",
              "<text text-anchor=\"middle\" x=\"188.5\" y=\"-245.8\" font-family=\"Helvetica,sans-Serif\" font-size=\"14.00\" fill=\"#000000\">value = [3, 3]</text>\n",
              "<text text-anchor=\"middle\" x=\"188.5\" y=\"-230.8\" font-family=\"Helvetica,sans-Serif\" font-size=\"14.00\" fill=\"#000000\">class = No Spikeball</text>\n",
              "</g>\n",
              "<!-- 0&#45;&gt;2 -->\n",
              "<g id=\"edge2\" class=\"edge\">\n",
              "<title>0&#45;&gt;2</title>\n",
              "<path fill=\"none\" stroke=\"#000000\" d=\"M144.9333,-341.8796C149.8013,-333.2335 154.9819,-324.0322 160.0086,-315.1042\"/>\n",
              "<polygon fill=\"#000000\" stroke=\"#000000\" points=\"163.1103,-316.729 164.9666,-306.2981 157.0107,-313.2947 163.1103,-316.729\"/>\n",
              "<text text-anchor=\"middle\" x=\"171.6978\" y=\"-326.6749\" font-family=\"Helvetica,sans-Serif\" font-size=\"14.00\" fill=\"#000000\">False</text>\n",
              "</g>\n",
              "<!-- 3 -->\n",
              "<g id=\"node4\" class=\"node\">\n",
              "<title>3</title>\n",
              "<path fill=\"#7bbeee\" stroke=\"#000000\" d=\"M166,-187C166,-187 85,-187 85,-187 79,-187 73,-181 73,-175 73,-175 73,-116 73,-116 73,-110 79,-104 85,-104 85,-104 166,-104 166,-104 172,-104 178,-110 178,-116 178,-116 178,-175 178,-175 178,-181 172,-187 166,-187\"/>\n",
              "<text text-anchor=\"middle\" x=\"125.5\" y=\"-171.8\" font-family=\"Helvetica,sans-Serif\" font-size=\"14.00\" fill=\"#000000\">friends_free &lt;= 2.0</text>\n",
              "<text text-anchor=\"middle\" x=\"125.5\" y=\"-156.8\" font-family=\"Helvetica,sans-Serif\" font-size=\"14.00\" fill=\"#000000\">gini = 0.375</text>\n",
              "<text text-anchor=\"middle\" x=\"125.5\" y=\"-141.8\" font-family=\"Helvetica,sans-Serif\" font-size=\"14.00\" fill=\"#000000\">samples = 4</text>\n",
              "<text text-anchor=\"middle\" x=\"125.5\" y=\"-126.8\" font-family=\"Helvetica,sans-Serif\" font-size=\"14.00\" fill=\"#000000\">value = [1, 3]</text>\n",
              "<text text-anchor=\"middle\" x=\"125.5\" y=\"-111.8\" font-family=\"Helvetica,sans-Serif\" font-size=\"14.00\" fill=\"#000000\">class = Spikeball</text>\n",
              "</g>\n",
              "<!-- 2&#45;&gt;3 -->\n",
              "<g id=\"edge3\" class=\"edge\">\n",
              "<title>2&#45;&gt;3</title>\n",
              "<path fill=\"none\" stroke=\"#000000\" d=\"M166.4657,-222.8796C161.936,-214.3236 157.1185,-205.2238 152.4382,-196.3833\"/>\n",
              "<polygon fill=\"#000000\" stroke=\"#000000\" points=\"155.4006,-194.4983 147.6284,-187.2981 149.2141,-197.7736 155.4006,-194.4983\"/>\n",
              "</g>\n",
              "<!-- 6 -->\n",
              "<g id=\"node7\" class=\"node\">\n",
              "<title>6</title>\n",
              "<path fill=\"#e58139\" stroke=\"#000000\" d=\"M295,-179.5C295,-179.5 208,-179.5 208,-179.5 202,-179.5 196,-173.5 196,-167.5 196,-167.5 196,-123.5 196,-123.5 196,-117.5 202,-111.5 208,-111.5 208,-111.5 295,-111.5 295,-111.5 301,-111.5 307,-117.5 307,-123.5 307,-123.5 307,-167.5 307,-167.5 307,-173.5 301,-179.5 295,-179.5\"/>\n",
              "<text text-anchor=\"middle\" x=\"251.5\" y=\"-164.3\" font-family=\"Helvetica,sans-Serif\" font-size=\"14.00\" fill=\"#000000\">gini = 0.0</text>\n",
              "<text text-anchor=\"middle\" x=\"251.5\" y=\"-149.3\" font-family=\"Helvetica,sans-Serif\" font-size=\"14.00\" fill=\"#000000\">samples = 2</text>\n",
              "<text text-anchor=\"middle\" x=\"251.5\" y=\"-134.3\" font-family=\"Helvetica,sans-Serif\" font-size=\"14.00\" fill=\"#000000\">value = [2, 0]</text>\n",
              "<text text-anchor=\"middle\" x=\"251.5\" y=\"-119.3\" font-family=\"Helvetica,sans-Serif\" font-size=\"14.00\" fill=\"#000000\">class = No Spikeball</text>\n",
              "</g>\n",
              "<!-- 2&#45;&gt;6 -->\n",
              "<g id=\"edge6\" class=\"edge\">\n",
              "<title>2&#45;&gt;6</title>\n",
              "<path fill=\"none\" stroke=\"#000000\" d=\"M210.5343,-222.8796C216.3558,-211.8835 222.6527,-199.9893 228.5227,-188.9015\"/>\n",
              "<polygon fill=\"#000000\" stroke=\"#000000\" points=\"231.7476,-190.2905 233.3333,-179.8149 225.5611,-187.0152 231.7476,-190.2905\"/>\n",
              "</g>\n",
              "<!-- 4 -->\n",
              "<g id=\"node5\" class=\"node\">\n",
              "<title>4</title>\n",
              "<path fill=\"#e58139\" stroke=\"#000000\" d=\"M109,-68C109,-68 22,-68 22,-68 16,-68 10,-62 10,-56 10,-56 10,-12 10,-12 10,-6 16,0 22,0 22,0 109,0 109,0 115,0 121,-6 121,-12 121,-12 121,-56 121,-56 121,-62 115,-68 109,-68\"/>\n",
              "<text text-anchor=\"middle\" x=\"65.5\" y=\"-52.8\" font-family=\"Helvetica,sans-Serif\" font-size=\"14.00\" fill=\"#000000\">gini = 0.0</text>\n",
              "<text text-anchor=\"middle\" x=\"65.5\" y=\"-37.8\" font-family=\"Helvetica,sans-Serif\" font-size=\"14.00\" fill=\"#000000\">samples = 1</text>\n",
              "<text text-anchor=\"middle\" x=\"65.5\" y=\"-22.8\" font-family=\"Helvetica,sans-Serif\" font-size=\"14.00\" fill=\"#000000\">value = [1, 0]</text>\n",
              "<text text-anchor=\"middle\" x=\"65.5\" y=\"-7.8\" font-family=\"Helvetica,sans-Serif\" font-size=\"14.00\" fill=\"#000000\">class = No Spikeball</text>\n",
              "</g>\n",
              "<!-- 3&#45;&gt;4 -->\n",
              "<g id=\"edge4\" class=\"edge\">\n",
              "<title>3&#45;&gt;4</title>\n",
              "<path fill=\"none\" stroke=\"#000000\" d=\"M103.1582,-103.9815C98.4598,-95.2504 93.4929,-86.0202 88.7617,-77.2281\"/>\n",
              "<polygon fill=\"#000000\" stroke=\"#000000\" points=\"91.7586,-75.4111 83.9379,-68.2637 85.5944,-78.7282 91.7586,-75.4111\"/>\n",
              "</g>\n",
              "<!-- 5 -->\n",
              "<g id=\"node6\" class=\"node\">\n",
              "<title>5</title>\n",
              "<path fill=\"#399de5\" stroke=\"#000000\" d=\"M222,-68C222,-68 151,-68 151,-68 145,-68 139,-62 139,-56 139,-56 139,-12 139,-12 139,-6 145,0 151,0 151,0 222,0 222,0 228,0 234,-6 234,-12 234,-12 234,-56 234,-56 234,-62 228,-68 222,-68\"/>\n",
              "<text text-anchor=\"middle\" x=\"186.5\" y=\"-52.8\" font-family=\"Helvetica,sans-Serif\" font-size=\"14.00\" fill=\"#000000\">gini = 0.0</text>\n",
              "<text text-anchor=\"middle\" x=\"186.5\" y=\"-37.8\" font-family=\"Helvetica,sans-Serif\" font-size=\"14.00\" fill=\"#000000\">samples = 3</text>\n",
              "<text text-anchor=\"middle\" x=\"186.5\" y=\"-22.8\" font-family=\"Helvetica,sans-Serif\" font-size=\"14.00\" fill=\"#000000\">value = [0, 3]</text>\n",
              "<text text-anchor=\"middle\" x=\"186.5\" y=\"-7.8\" font-family=\"Helvetica,sans-Serif\" font-size=\"14.00\" fill=\"#000000\">class = Spikeball</text>\n",
              "</g>\n",
              "<!-- 3&#45;&gt;5 -->\n",
              "<g id=\"edge5\" class=\"edge\">\n",
              "<title>3&#45;&gt;5</title>\n",
              "<path fill=\"none\" stroke=\"#000000\" d=\"M148.2141,-103.9815C152.9908,-95.2504 158.0405,-86.0202 162.8506,-77.2281\"/>\n",
              "<polygon fill=\"#000000\" stroke=\"#000000\" points=\"166.0258,-78.7165 167.7549,-68.2637 159.8847,-75.3568 166.0258,-78.7165\"/>\n",
              "</g>\n",
              "</g>\n",
              "</svg>\n"
            ],
            "text/plain": [
              "<graphviz.files.Source at 0x7faf14234c70>"
            ]
          },
          "execution_count": 10,
          "metadata": {},
          "output_type": "execute_result"
        }
      ],
      "source": [
        "# Visualize the decision tree\n",
        "from IPython.display import display, HTML\n",
        "from sklearn.tree import export_graphviz\n",
        "from graphviz import Source\n",
        "\n",
        "graph = Source(export_graphviz(clf,\n",
        "                        out_file=None,\n",
        "                        feature_names=X_train.columns,\n",
        "                        class_names=['No Spikeball', 'Spikeball'],\n",
        "                        filled=True,\n",
        "                        rounded=True))\n",
        "graph"
      ]
    },
    {
      "cell_type": "markdown",
      "metadata": {
        "id": "DHTQ0WKubdwl"
      },
      "source": [
        "# Trying it out on real world data\n",
        "\n",
        "We're going to use the same breast cancer dataset as before."
      ]
    },
    {
      "cell_type": "code",
      "execution_count": null,
      "metadata": {
        "id": "2V8wE4qpbL2U",
        "outputId": "03d0e188-c93d-4513-d7dc-6e30f0f7f36b"
      },
      "outputs": [
        {
          "data": {
            "text/html": [
              "<div>\n",
              "<style scoped>\n",
              "    .dataframe tbody tr th:only-of-type {\n",
              "        vertical-align: middle;\n",
              "    }\n",
              "\n",
              "    .dataframe tbody tr th {\n",
              "        vertical-align: top;\n",
              "    }\n",
              "\n",
              "    .dataframe thead th {\n",
              "        text-align: right;\n",
              "    }\n",
              "</style>\n",
              "<table border=\"1\" class=\"dataframe\">\n",
              "  <thead>\n",
              "    <tr style=\"text-align: right;\">\n",
              "      <th></th>\n",
              "      <th>id</th>\n",
              "      <th>diagnosis</th>\n",
              "      <th>radius_mean</th>\n",
              "      <th>texture_mean</th>\n",
              "      <th>perimeter_mean</th>\n",
              "      <th>area_mean</th>\n",
              "      <th>smoothness_mean</th>\n",
              "      <th>compactness_mean</th>\n",
              "      <th>concavity_mean</th>\n",
              "      <th>concave points_mean</th>\n",
              "      <th>...</th>\n",
              "      <th>texture_worst</th>\n",
              "      <th>perimeter_worst</th>\n",
              "      <th>area_worst</th>\n",
              "      <th>smoothness_worst</th>\n",
              "      <th>compactness_worst</th>\n",
              "      <th>concavity_worst</th>\n",
              "      <th>concave points_worst</th>\n",
              "      <th>symmetry_worst</th>\n",
              "      <th>fractal_dimension_worst</th>\n",
              "      <th>Unnamed: 32</th>\n",
              "    </tr>\n",
              "  </thead>\n",
              "  <tbody>\n",
              "    <tr>\n",
              "      <th>0</th>\n",
              "      <td>842302</td>\n",
              "      <td>M</td>\n",
              "      <td>17.99</td>\n",
              "      <td>10.38</td>\n",
              "      <td>122.80</td>\n",
              "      <td>1001.0</td>\n",
              "      <td>0.11840</td>\n",
              "      <td>0.27760</td>\n",
              "      <td>0.3001</td>\n",
              "      <td>0.14710</td>\n",
              "      <td>...</td>\n",
              "      <td>17.33</td>\n",
              "      <td>184.60</td>\n",
              "      <td>2019.0</td>\n",
              "      <td>0.1622</td>\n",
              "      <td>0.6656</td>\n",
              "      <td>0.7119</td>\n",
              "      <td>0.2654</td>\n",
              "      <td>0.4601</td>\n",
              "      <td>0.11890</td>\n",
              "      <td>NaN</td>\n",
              "    </tr>\n",
              "    <tr>\n",
              "      <th>1</th>\n",
              "      <td>842517</td>\n",
              "      <td>M</td>\n",
              "      <td>20.57</td>\n",
              "      <td>17.77</td>\n",
              "      <td>132.90</td>\n",
              "      <td>1326.0</td>\n",
              "      <td>0.08474</td>\n",
              "      <td>0.07864</td>\n",
              "      <td>0.0869</td>\n",
              "      <td>0.07017</td>\n",
              "      <td>...</td>\n",
              "      <td>23.41</td>\n",
              "      <td>158.80</td>\n",
              "      <td>1956.0</td>\n",
              "      <td>0.1238</td>\n",
              "      <td>0.1866</td>\n",
              "      <td>0.2416</td>\n",
              "      <td>0.1860</td>\n",
              "      <td>0.2750</td>\n",
              "      <td>0.08902</td>\n",
              "      <td>NaN</td>\n",
              "    </tr>\n",
              "    <tr>\n",
              "      <th>2</th>\n",
              "      <td>84300903</td>\n",
              "      <td>M</td>\n",
              "      <td>19.69</td>\n",
              "      <td>21.25</td>\n",
              "      <td>130.00</td>\n",
              "      <td>1203.0</td>\n",
              "      <td>0.10960</td>\n",
              "      <td>0.15990</td>\n",
              "      <td>0.1974</td>\n",
              "      <td>0.12790</td>\n",
              "      <td>...</td>\n",
              "      <td>25.53</td>\n",
              "      <td>152.50</td>\n",
              "      <td>1709.0</td>\n",
              "      <td>0.1444</td>\n",
              "      <td>0.4245</td>\n",
              "      <td>0.4504</td>\n",
              "      <td>0.2430</td>\n",
              "      <td>0.3613</td>\n",
              "      <td>0.08758</td>\n",
              "      <td>NaN</td>\n",
              "    </tr>\n",
              "    <tr>\n",
              "      <th>3</th>\n",
              "      <td>84348301</td>\n",
              "      <td>M</td>\n",
              "      <td>11.42</td>\n",
              "      <td>20.38</td>\n",
              "      <td>77.58</td>\n",
              "      <td>386.1</td>\n",
              "      <td>0.14250</td>\n",
              "      <td>0.28390</td>\n",
              "      <td>0.2414</td>\n",
              "      <td>0.10520</td>\n",
              "      <td>...</td>\n",
              "      <td>26.50</td>\n",
              "      <td>98.87</td>\n",
              "      <td>567.7</td>\n",
              "      <td>0.2098</td>\n",
              "      <td>0.8663</td>\n",
              "      <td>0.6869</td>\n",
              "      <td>0.2575</td>\n",
              "      <td>0.6638</td>\n",
              "      <td>0.17300</td>\n",
              "      <td>NaN</td>\n",
              "    </tr>\n",
              "    <tr>\n",
              "      <th>4</th>\n",
              "      <td>84358402</td>\n",
              "      <td>M</td>\n",
              "      <td>20.29</td>\n",
              "      <td>14.34</td>\n",
              "      <td>135.10</td>\n",
              "      <td>1297.0</td>\n",
              "      <td>0.10030</td>\n",
              "      <td>0.13280</td>\n",
              "      <td>0.1980</td>\n",
              "      <td>0.10430</td>\n",
              "      <td>...</td>\n",
              "      <td>16.67</td>\n",
              "      <td>152.20</td>\n",
              "      <td>1575.0</td>\n",
              "      <td>0.1374</td>\n",
              "      <td>0.2050</td>\n",
              "      <td>0.4000</td>\n",
              "      <td>0.1625</td>\n",
              "      <td>0.2364</td>\n",
              "      <td>0.07678</td>\n",
              "      <td>NaN</td>\n",
              "    </tr>\n",
              "  </tbody>\n",
              "</table>\n",
              "<p>5 rows × 33 columns</p>\n",
              "</div>"
            ],
            "text/plain": [
              "         id diagnosis  radius_mean  texture_mean  perimeter_mean  area_mean  \\\n",
              "0    842302         M        17.99         10.38          122.80     1001.0   \n",
              "1    842517         M        20.57         17.77          132.90     1326.0   \n",
              "2  84300903         M        19.69         21.25          130.00     1203.0   \n",
              "3  84348301         M        11.42         20.38           77.58      386.1   \n",
              "4  84358402         M        20.29         14.34          135.10     1297.0   \n",
              "\n",
              "   smoothness_mean  compactness_mean  concavity_mean  concave points_mean  \\\n",
              "0          0.11840           0.27760          0.3001              0.14710   \n",
              "1          0.08474           0.07864          0.0869              0.07017   \n",
              "2          0.10960           0.15990          0.1974              0.12790   \n",
              "3          0.14250           0.28390          0.2414              0.10520   \n",
              "4          0.10030           0.13280          0.1980              0.10430   \n",
              "\n",
              "   ...  texture_worst  perimeter_worst  area_worst  smoothness_worst  \\\n",
              "0  ...          17.33           184.60      2019.0            0.1622   \n",
              "1  ...          23.41           158.80      1956.0            0.1238   \n",
              "2  ...          25.53           152.50      1709.0            0.1444   \n",
              "3  ...          26.50            98.87       567.7            0.2098   \n",
              "4  ...          16.67           152.20      1575.0            0.1374   \n",
              "\n",
              "   compactness_worst  concavity_worst  concave points_worst  symmetry_worst  \\\n",
              "0             0.6656           0.7119                0.2654          0.4601   \n",
              "1             0.1866           0.2416                0.1860          0.2750   \n",
              "2             0.4245           0.4504                0.2430          0.3613   \n",
              "3             0.8663           0.6869                0.2575          0.6638   \n",
              "4             0.2050           0.4000                0.1625          0.2364   \n",
              "\n",
              "   fractal_dimension_worst  Unnamed: 32  \n",
              "0                  0.11890          NaN  \n",
              "1                  0.08902          NaN  \n",
              "2                  0.08758          NaN  \n",
              "3                  0.17300          NaN  \n",
              "4                  0.07678          NaN  \n",
              "\n",
              "[5 rows x 33 columns]"
            ]
          },
          "execution_count": 11,
          "metadata": {},
          "output_type": "execute_result"
        }
      ],
      "source": [
        "url = 'https://raw.githubusercontent.com/ishaandey/node/master/week-7/workshop/breast_cancer.csv'\n",
        "df = pd.read_csv(url)\n",
        "\n",
        "df.head()"
      ]
    },
    {
      "cell_type": "code",
      "execution_count": null,
      "metadata": {
        "id": "uoBb7rIVuDNc"
      },
      "outputs": [],
      "source": [
        "# Clean the data\n",
        "df = df.drop(columns=['id','Unnamed: 32'])\n",
        "df['diagnosis'] = df['diagnosis'].map({'M':1,'B':0})"
      ]
    },
    {
      "cell_type": "code",
      "execution_count": null,
      "metadata": {
        "id": "wgwEAMo5uF8n"
      },
      "outputs": [],
      "source": [
        "# Divide into X and y and do train_test_split\n",
        "X = df.drop(columns=['diagnosis'])\n",
        "y = df['diagnosis']\n",
        "\n",
        "\n",
        "X_train, X_test, y_train, y_test = train_test_split(X, y, test_size=0.2, random_state=42)"
      ]
    },
    {
      "cell_type": "code",
      "execution_count": null,
      "metadata": {
        "colab": {
          "base_uri": "https://localhost:8080/"
        },
        "id": "KMvcPQK8bNiu",
        "outputId": "9a0e870c-d97b-4064-f360-58132385221c"
      },
      "outputs": [
        {
          "data": {
            "text/plain": [
              "DecisionTreeClassifier()"
            ]
          },
          "execution_count": 14,
          "metadata": {},
          "output_type": "execute_result"
        }
      ],
      "source": [
        "# Fit a DecisionTreeClassifier to the data\n",
        "clf = DecisionTreeClassifier()\n",
        "clf.fit(X_train, y_train)"
      ]
    },
    {
      "cell_type": "code",
      "execution_count": null,
      "metadata": {
        "colab": {
          "base_uri": "https://localhost:8080/"
        },
        "id": "fbKRGNZ1bomS",
        "outputId": "4b81cfae-91e2-400d-d358-275397b4a078"
      },
      "outputs": [
        {
          "name": "stdout",
          "output_type": "stream",
          "text": [
            "Look at first 10 predictions:\n",
            "Predicted:  [0 1 1 0 0 1 1 1 1 1]\n",
            "Actual:     [0 1 1 0 0 1 1 1 0 0]\n"
          ]
        }
      ],
      "source": [
        "# Predict on the testing data and compare the predicted to the actual\n",
        "predicted = clf.predict(X_test)\n",
        "actual = np.array(y_test)\n",
        "\n",
        "print('Look at first 10 predictions:')\n",
        "print('Predicted: ',predicted[:10])\n",
        "print('Actual:    ',actual[:10])"
      ]
    },
    {
      "cell_type": "code",
      "execution_count": null,
      "metadata": {
        "colab": {
          "base_uri": "https://localhost:8080/"
        },
        "id": "JurBMy7qbulO",
        "outputId": "88a97724-f164-435c-f590-c44fa3446ece"
      },
      "outputs": [
        {
          "data": {
            "text/plain": [
              "0.9298245614035088"
            ]
          },
          "execution_count": 16,
          "metadata": {},
          "output_type": "execute_result"
        }
      ],
      "source": [
        "# Get the accuracy score\n",
        "acc = accuracy_score(predicted, actual)\n",
        "acc"
      ]
    },
    {
      "cell_type": "markdown",
      "metadata": {
        "id": "CozAGfkbfZm8"
      },
      "source": [
        "# Feature importances\n",
        "The DecisionTreeClassifier weighs different features more heavily than other when making its predictions. Let's take a look at the most important features used in this classification."
      ]
    },
    {
      "cell_type": "code",
      "execution_count": null,
      "metadata": {
        "colab": {
          "base_uri": "https://localhost:8080/",
          "height": 935
        },
        "id": "A0r17GBse5UF",
        "outputId": "016da6ed-b7f6-45ae-f11c-082cdbeeb09e"
      },
      "outputs": [
        {
          "data": {
            "text/html": [
              "<div>\n",
              "<style scoped>\n",
              "    .dataframe tbody tr th:only-of-type {\n",
              "        vertical-align: middle;\n",
              "    }\n",
              "\n",
              "    .dataframe tbody tr th {\n",
              "        vertical-align: top;\n",
              "    }\n",
              "\n",
              "    .dataframe thead th {\n",
              "        text-align: right;\n",
              "    }\n",
              "</style>\n",
              "<table border=\"1\" class=\"dataframe\">\n",
              "  <thead>\n",
              "    <tr style=\"text-align: right;\">\n",
              "      <th></th>\n",
              "      <th>Importance</th>\n",
              "    </tr>\n",
              "  </thead>\n",
              "  <tbody>\n",
              "    <tr>\n",
              "      <th>radius_mean</th>\n",
              "      <td>0.000000</td>\n",
              "    </tr>\n",
              "    <tr>\n",
              "      <th>texture_mean</th>\n",
              "      <td>0.000000</td>\n",
              "    </tr>\n",
              "    <tr>\n",
              "      <th>perimeter_mean</th>\n",
              "      <td>0.000000</td>\n",
              "    </tr>\n",
              "    <tr>\n",
              "      <th>area_mean</th>\n",
              "      <td>0.000000</td>\n",
              "    </tr>\n",
              "    <tr>\n",
              "      <th>smoothness_mean</th>\n",
              "      <td>0.000000</td>\n",
              "    </tr>\n",
              "    <tr>\n",
              "      <th>compactness_mean</th>\n",
              "      <td>0.006276</td>\n",
              "    </tr>\n",
              "    <tr>\n",
              "      <th>concavity_mean</th>\n",
              "      <td>0.000000</td>\n",
              "    </tr>\n",
              "    <tr>\n",
              "      <th>concave points_mean</th>\n",
              "      <td>0.691420</td>\n",
              "    </tr>\n",
              "    <tr>\n",
              "      <th>symmetry_mean</th>\n",
              "      <td>0.000000</td>\n",
              "    </tr>\n",
              "    <tr>\n",
              "      <th>fractal_dimension_mean</th>\n",
              "      <td>0.000000</td>\n",
              "    </tr>\n",
              "    <tr>\n",
              "      <th>radius_se</th>\n",
              "      <td>0.011983</td>\n",
              "    </tr>\n",
              "    <tr>\n",
              "      <th>texture_se</th>\n",
              "      <td>0.000000</td>\n",
              "    </tr>\n",
              "    <tr>\n",
              "      <th>perimeter_se</th>\n",
              "      <td>0.000000</td>\n",
              "    </tr>\n",
              "    <tr>\n",
              "      <th>area_se</th>\n",
              "      <td>0.000000</td>\n",
              "    </tr>\n",
              "    <tr>\n",
              "      <th>smoothness_se</th>\n",
              "      <td>0.009306</td>\n",
              "    </tr>\n",
              "    <tr>\n",
              "      <th>compactness_se</th>\n",
              "      <td>0.000000</td>\n",
              "    </tr>\n",
              "    <tr>\n",
              "      <th>concavity_se</th>\n",
              "      <td>0.018554</td>\n",
              "    </tr>\n",
              "    <tr>\n",
              "      <th>concave points_se</th>\n",
              "      <td>0.015931</td>\n",
              "    </tr>\n",
              "    <tr>\n",
              "      <th>symmetry_se</th>\n",
              "      <td>0.000000</td>\n",
              "    </tr>\n",
              "    <tr>\n",
              "      <th>fractal_dimension_se</th>\n",
              "      <td>0.000000</td>\n",
              "    </tr>\n",
              "    <tr>\n",
              "      <th>radius_worst</th>\n",
              "      <td>0.052299</td>\n",
              "    </tr>\n",
              "    <tr>\n",
              "      <th>texture_worst</th>\n",
              "      <td>0.067854</td>\n",
              "    </tr>\n",
              "    <tr>\n",
              "      <th>perimeter_worst</th>\n",
              "      <td>0.051494</td>\n",
              "    </tr>\n",
              "    <tr>\n",
              "      <th>area_worst</th>\n",
              "      <td>0.000000</td>\n",
              "    </tr>\n",
              "    <tr>\n",
              "      <th>smoothness_worst</th>\n",
              "      <td>0.009233</td>\n",
              "    </tr>\n",
              "    <tr>\n",
              "      <th>compactness_worst</th>\n",
              "      <td>0.000000</td>\n",
              "    </tr>\n",
              "    <tr>\n",
              "      <th>concavity_worst</th>\n",
              "      <td>0.000000</td>\n",
              "    </tr>\n",
              "    <tr>\n",
              "      <th>concave points_worst</th>\n",
              "      <td>0.065651</td>\n",
              "    </tr>\n",
              "    <tr>\n",
              "      <th>symmetry_worst</th>\n",
              "      <td>0.000000</td>\n",
              "    </tr>\n",
              "    <tr>\n",
              "      <th>fractal_dimension_worst</th>\n",
              "      <td>0.000000</td>\n",
              "    </tr>\n",
              "  </tbody>\n",
              "</table>\n",
              "</div>"
            ],
            "text/plain": [
              "                         Importance\n",
              "radius_mean                0.000000\n",
              "texture_mean               0.000000\n",
              "perimeter_mean             0.000000\n",
              "area_mean                  0.000000\n",
              "smoothness_mean            0.000000\n",
              "compactness_mean           0.006276\n",
              "concavity_mean             0.000000\n",
              "concave points_mean        0.691420\n",
              "symmetry_mean              0.000000\n",
              "fractal_dimension_mean     0.000000\n",
              "radius_se                  0.011983\n",
              "texture_se                 0.000000\n",
              "perimeter_se               0.000000\n",
              "area_se                    0.000000\n",
              "smoothness_se              0.009306\n",
              "compactness_se             0.000000\n",
              "concavity_se               0.018554\n",
              "concave points_se          0.015931\n",
              "symmetry_se                0.000000\n",
              "fractal_dimension_se       0.000000\n",
              "radius_worst               0.052299\n",
              "texture_worst              0.067854\n",
              "perimeter_worst            0.051494\n",
              "area_worst                 0.000000\n",
              "smoothness_worst           0.009233\n",
              "compactness_worst          0.000000\n",
              "concavity_worst            0.000000\n",
              "concave points_worst       0.065651\n",
              "symmetry_worst             0.000000\n",
              "fractal_dimension_worst    0.000000"
            ]
          },
          "execution_count": 17,
          "metadata": {},
          "output_type": "execute_result"
        }
      ],
      "source": [
        "# Get feature importances\n",
        "pd.DataFrame({'Importance':clf.feature_importances_}, index=X.columns)"
      ]
    },
    {
      "cell_type": "markdown",
      "metadata": {
        "id": "uHi94GYNcbNm"
      },
      "source": [
        "# Which depth?\n",
        "\n",
        "Decision trees allow you to specify the depth that the tree is allowed to go to. Deeper trees are able to capture more details in the training set, but it may lead to overfitting. Find the accuracy of the decision tree with max depths of 1, 3, and 5."
      ]
    },
    {
      "cell_type": "code",
      "execution_count": null,
      "metadata": {
        "colab": {
          "base_uri": "https://localhost:8080/"
        },
        "id": "xzu5ZVZicD07",
        "outputId": "9d3352f5-573f-4f50-ceba-feb1bb8e0a9b"
      },
      "outputs": [
        {
          "name": "stdout",
          "output_type": "stream",
          "text": [
            "0.8947368421052632\n"
          ]
        }
      ],
      "source": [
        "# Fit a DecisionTreeClassifier with max_depth=1 and get the accuracy score\n",
        "clf1 = DecisionTreeClassifier(max_depth=1, random_state=42)\n",
        "clf1.fit(X_train, y_train)\n",
        "predicted = clf1.predict(X_test)\n",
        "actual = np.array(y_test)\n",
        "acc1 = accuracy_score(predicted, actual)\n",
        "print(acc1)"
      ]
    },
    {
      "cell_type": "code",
      "execution_count": null,
      "metadata": {
        "colab": {
          "base_uri": "https://localhost:8080/"
        },
        "id": "fVYo6VOzenh-",
        "outputId": "b171c704-44fa-4518-8cc8-acc5bd3bcef3"
      },
      "outputs": [
        {
          "name": "stdout",
          "output_type": "stream",
          "text": [
            "0.9473684210526315\n"
          ]
        }
      ],
      "source": [
        "# Fit a DecisionTreeClassifier with max_depth=3 and get the accuracy score\n",
        "clf3 = DecisionTreeClassifier(max_depth=3, random_state=42)\n",
        "clf3.fit(X_train, y_train)\n",
        "predicted = clf3.predict(X_test)\n",
        "actual = np.array(y_test)\n",
        "acc3 = accuracy_score(predicted, actual)\n",
        "print(acc3)"
      ]
    },
    {
      "cell_type": "code",
      "execution_count": null,
      "metadata": {
        "colab": {
          "base_uri": "https://localhost:8080/"
        },
        "id": "zVm6j3utvDvC",
        "outputId": "684fd78c-4e38-48cd-f16d-8c83bd4385b5"
      },
      "outputs": [
        {
          "name": "stdout",
          "output_type": "stream",
          "text": [
            "0.9473684210526315\n"
          ]
        }
      ],
      "source": [
        "# Fit a DecisionTreeClassifier with max_depth=100 and get the accuracy score\n",
        "clf100 = DecisionTreeClassifier(max_depth=100, random_state=42)\n",
        "clf100.fit(X_train, y_train)\n",
        "predicted = clf100.predict(X_test)\n",
        "actual = np.array(y_test)\n",
        "acc100 = accuracy_score(predicted, actual)\n",
        "print(acc100)"
      ]
    },
    {
      "cell_type": "markdown",
      "metadata": {
        "id": "ozqFmeTTvWlg"
      },
      "source": [
        "Let's take a look at what feature the max_depth=1 tree used."
      ]
    },
    {
      "cell_type": "code",
      "execution_count": null,
      "metadata": {
        "colab": {
          "base_uri": "https://localhost:8080/",
          "height": 281
        },
        "id": "sOlfSxn8d0Y2",
        "outputId": "b39f436b-4725-4c0b-f85f-483b6f2d71e5"
      },
      "outputs": [
        {
          "data": {
            "image/svg+xml": [
              "<?xml version=\"1.0\" encoding=\"UTF-8\" standalone=\"no\"?>\n",
              "<!DOCTYPE svg PUBLIC \"-//W3C//DTD SVG 1.1//EN\"\n",
              " \"http://www.w3.org/Graphics/SVG/1.1/DTD/svg11.dtd\">\n",
              "<!-- Generated by graphviz version 2.40.1 (20161225.0304)\n",
              " -->\n",
              "<!-- Title: Tree Pages: 1 -->\n",
              "<svg width=\"218pt\" height=\"195pt\"\n",
              " viewBox=\"0.00 0.00 218.00 195.00\" xmlns=\"http://www.w3.org/2000/svg\" xmlns:xlink=\"http://www.w3.org/1999/xlink\">\n",
              "<g id=\"graph0\" class=\"graph\" transform=\"scale(1 1) rotate(0) translate(4 191)\">\n",
              "<title>Tree</title>\n",
              "<polygon fill=\"#ffffff\" stroke=\"transparent\" points=\"-4,4 -4,-191 214,-191 214,4 -4,4\"/>\n",
              "<!-- 0 -->\n",
              "<g id=\"node1\" class=\"node\">\n",
              "<title>0</title>\n",
              "<path fill=\"#f4cbae\" stroke=\"#000000\" d=\"M173.5,-187C173.5,-187 34.5,-187 34.5,-187 28.5,-187 22.5,-181 22.5,-175 22.5,-175 22.5,-116 22.5,-116 22.5,-110 28.5,-104 34.5,-104 34.5,-104 173.5,-104 173.5,-104 179.5,-104 185.5,-110 185.5,-116 185.5,-116 185.5,-175 185.5,-175 185.5,-181 179.5,-187 173.5,-187\"/>\n",
              "<text text-anchor=\"middle\" x=\"104\" y=\"-171.8\" font-family=\"Helvetica,sans-Serif\" font-size=\"14.00\" fill=\"#000000\">concave points_mean &lt;= 0.051</text>\n",
              "<text text-anchor=\"middle\" x=\"104\" y=\"-156.8\" font-family=\"Helvetica,sans-Serif\" font-size=\"14.00\" fill=\"#000000\">gini = 0.467</text>\n",
              "<text text-anchor=\"middle\" x=\"104\" y=\"-141.8\" font-family=\"Helvetica,sans-Serif\" font-size=\"14.00\" fill=\"#000000\">samples = 455</text>\n",
              "<text text-anchor=\"middle\" x=\"104\" y=\"-126.8\" font-family=\"Helvetica,sans-Serif\" font-size=\"14.00\" fill=\"#000000\">value = [286, 169]</text>\n",
              "<text text-anchor=\"middle\" x=\"104\" y=\"-111.8\" font-family=\"Helvetica,sans-Serif\" font-size=\"14.00\" fill=\"#000000\">class = Benign</text>\n",
              "</g>\n",
              "<!-- 1 -->\n",
              "<g id=\"node2\" class=\"node\">\n",
              "<title>1</title>\n",
              "<path fill=\"#e78945\" stroke=\"#000000\" d=\"M82,-68C82,-68 12,-68 12,-68 6,-68 0,-62 0,-56 0,-56 0,-12 0,-12 0,-6 6,0 12,0 12,0 82,0 82,0 88,0 94,-6 94,-12 94,-12 94,-56 94,-56 94,-62 88,-68 82,-68\"/>\n",
              "<text text-anchor=\"middle\" x=\"47\" y=\"-52.8\" font-family=\"Helvetica,sans-Serif\" font-size=\"14.00\" fill=\"#000000\">gini = 0.107</text>\n",
              "<text text-anchor=\"middle\" x=\"47\" y=\"-37.8\" font-family=\"Helvetica,sans-Serif\" font-size=\"14.00\" fill=\"#000000\">samples = 282</text>\n",
              "<text text-anchor=\"middle\" x=\"47\" y=\"-22.8\" font-family=\"Helvetica,sans-Serif\" font-size=\"14.00\" fill=\"#000000\">value = [266, 16]</text>\n",
              "<text text-anchor=\"middle\" x=\"47\" y=\"-7.8\" font-family=\"Helvetica,sans-Serif\" font-size=\"14.00\" fill=\"#000000\">class = Benign</text>\n",
              "</g>\n",
              "<!-- 0&#45;&gt;1 -->\n",
              "<g id=\"edge1\" class=\"edge\">\n",
              "<title>0&#45;&gt;1</title>\n",
              "<path fill=\"none\" stroke=\"#000000\" d=\"M82.7753,-103.9815C78.3119,-95.2504 73.5933,-86.0202 69.0987,-77.2281\"/>\n",
              "<polygon fill=\"#000000\" stroke=\"#000000\" points=\"72.1842,-75.5745 64.516,-68.2637 65.9514,-78.7608 72.1842,-75.5745\"/>\n",
              "<text text-anchor=\"middle\" x=\"56.8223\" y=\"-88.3504\" font-family=\"Helvetica,sans-Serif\" font-size=\"14.00\" fill=\"#000000\">True</text>\n",
              "</g>\n",
              "<!-- 2 -->\n",
              "<g id=\"node3\" class=\"node\">\n",
              "<title>2</title>\n",
              "<path fill=\"#53aae8\" stroke=\"#000000\" d=\"M198,-68C198,-68 124,-68 124,-68 118,-68 112,-62 112,-56 112,-56 112,-12 112,-12 112,-6 118,0 124,0 124,0 198,0 198,0 204,0 210,-6 210,-12 210,-12 210,-56 210,-56 210,-62 204,-68 198,-68\"/>\n",
              "<text text-anchor=\"middle\" x=\"161\" y=\"-52.8\" font-family=\"Helvetica,sans-Serif\" font-size=\"14.00\" fill=\"#000000\">gini = 0.204</text>\n",
              "<text text-anchor=\"middle\" x=\"161\" y=\"-37.8\" font-family=\"Helvetica,sans-Serif\" font-size=\"14.00\" fill=\"#000000\">samples = 173</text>\n",
              "<text text-anchor=\"middle\" x=\"161\" y=\"-22.8\" font-family=\"Helvetica,sans-Serif\" font-size=\"14.00\" fill=\"#000000\">value = [20, 153]</text>\n",
              "<text text-anchor=\"middle\" x=\"161\" y=\"-7.8\" font-family=\"Helvetica,sans-Serif\" font-size=\"14.00\" fill=\"#000000\">class = Malignant</text>\n",
              "</g>\n",
              "<!-- 0&#45;&gt;2 -->\n",
              "<g id=\"edge2\" class=\"edge\">\n",
              "<title>0&#45;&gt;2</title>\n",
              "<path fill=\"none\" stroke=\"#000000\" d=\"M125.2247,-103.9815C129.6881,-95.2504 134.4067,-86.0202 138.9013,-77.2281\"/>\n",
              "<polygon fill=\"#000000\" stroke=\"#000000\" points=\"142.0486,-78.7608 143.484,-68.2637 135.8158,-75.5745 142.0486,-78.7608\"/>\n",
              "<text text-anchor=\"middle\" x=\"151.1777\" y=\"-88.3504\" font-family=\"Helvetica,sans-Serif\" font-size=\"14.00\" fill=\"#000000\">False</text>\n",
              "</g>\n",
              "</g>\n",
              "</svg>\n"
            ],
            "text/plain": [
              "<graphviz.files.Source at 0x7faf142a4910>"
            ]
          },
          "execution_count": 21,
          "metadata": {},
          "output_type": "execute_result"
        }
      ],
      "source": [
        "# Visualize max_depth=1 tree\n",
        "graph = Source(export_graphviz(clf1,\n",
        "                        out_file=None,\n",
        "                        feature_names=X_train.columns,\n",
        "                        class_names=['Benign', 'Malignant'],\n",
        "                        filled=True,\n",
        "                        rounded=True))\n",
        "graph"
      ]
    },
    {
      "cell_type": "markdown",
      "metadata": {
        "id": "2rUmig6yvqb6"
      },
      "source": [
        "This agrees with the feature importances. Cool!"
      ]
    }
  ],
  "metadata": {
    "colab": {
      "collapsed_sections": [],
      "name": "dt_key.ipynb",
      "provenance": []
    },
    "kernelspec": {
      "display_name": "Python 3",
      "language": "python",
      "name": "python3"
    },
    "language_info": {
      "codemirror_mode": {
        "name": "ipython",
        "version": 3
      },
      "file_extension": ".py",
      "mimetype": "text/x-python",
      "name": "python",
      "nbconvert_exporter": "python",
      "pygments_lexer": "ipython3",
      "version": "3.9.2"
    }
  },
  "nbformat": 4,
  "nbformat_minor": 0
}