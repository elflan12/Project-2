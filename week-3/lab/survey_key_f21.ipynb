{
  "nbformat": 4,
  "nbformat_minor": 0,
  "metadata": {
    "colab": {
      "name": "Lab.ipynb",
      "provenance": [],
      "collapsed_sections": []
    },
    "kernelspec": {
      "name": "python3",
      "display_name": "Python 3.8.10 64-bit ('base': conda)"
    },
    "language_info": {
      "name": "python",
      "version": "3.8.10",
      "mimetype": "text/x-python",
      "codemirror_mode": {
        "name": "ipython",
        "version": 3
      },
      "pygments_lexer": "ipython3",
      "nbconvert_exporter": "python",
      "file_extension": ".py"
    },
    "interpreter": {
      "hash": "d0fa7c806679d6ffc40184b24ef308d82c68a18a4590df1b063471f044803a03"
    }
  },
  "cells": [
    {
      "cell_type": "markdown",
      "source": [
        "# Lab 03 - Let's explore the data from the intro survey!\n",
        "Start by importing the necessary libraries (pandas)"
      ],
      "metadata": {
        "id": "7HTCKeFj5dg5"
      }
    },
    {
      "cell_type": "code",
      "execution_count": null,
      "source": [
        "# Import the necessary libraries\n",
        "import pandas as pd\n",
        "import numpy as np"
      ],
      "outputs": [],
      "metadata": {
        "id": "rFZMYSpoNSdz"
      }
    },
    {
      "cell_type": "markdown",
      "source": [
        "Next, let's read in the data. This time, we'll be working with two csv files. Make sure to name them different things!\n",
        "\n",
        "URL1: `https://raw.githubusercontent.com/ishaandey/node/master/week-3/lab/survey_responses_f21.csv`\n",
        "<br>URL2: `https://raw.githubusercontent.com/ishaandey/node/master/week-3/lab/survey_names_f21.csv`"
      ],
      "metadata": {
        "id": "5Cn0cTuInfyK"
      }
    },
    {
      "cell_type": "code",
      "execution_count": null,
      "source": [
        "# Read in the data from both csv files\n",
        "df1 = pd.read_csv(\"https://raw.githubusercontent.com/ishaandey/node/master/week-3/lab/survey_responses_f21.csv\")\n",
        "df2 = pd.read_csv(\"https://raw.githubusercontent.com/ishaandey/node/master/week-3/lab/survey_names_f21.csv\")"
      ],
      "outputs": [],
      "metadata": {
        "id": "-a-8QEftNVJq"
      }
    },
    {
      "cell_type": "markdown",
      "source": [
        "Let's see what's in the data we just imported"
      ],
      "metadata": {
        "id": "IdwvGICJnzXS"
      }
    },
    {
      "cell_type": "code",
      "execution_count": null,
      "source": [
        "# Check out both DataFrames\n",
        "df1.head()"
      ],
      "outputs": [
        {
          "output_type": "execute_result",
          "data": {
            "text/html": [
              "<div>\n",
              "<style scoped>\n",
              "    .dataframe tbody tr th:only-of-type {\n",
              "        vertical-align: middle;\n",
              "    }\n",
              "\n",
              "    .dataframe tbody tr th {\n",
              "        vertical-align: top;\n",
              "    }\n",
              "\n",
              "    .dataframe thead th {\n",
              "        text-align: right;\n",
              "    }\n",
              "</style>\n",
              "<table border=\"1\" class=\"dataframe\">\n",
              "  <thead>\n",
              "    <tr style=\"text-align: right;\">\n",
              "      <th></th>\n",
              "      <th>Timestamp</th>\n",
              "      <th>Index</th>\n",
              "      <th>What college are you in?</th>\n",
              "      <th>What year are you?</th>\n",
              "      <th>My planned (or declared) major is... (Separate each by commas)</th>\n",
              "      <th>I'm new to CS</th>\n",
              "      <th>How I feel about...  [Python]</th>\n",
              "      <th>How I feel about...  [R]</th>\n",
              "      <th>How I feel about...  [SQL]</th>\n",
              "      <th>How I feel about...  [SAS / STATA]</th>\n",
              "      <th>How I feel about...  [Other Languages]</th>\n",
              "      <th>How I feel about...  [Statistics]</th>\n",
              "      <th>I'm passionate about ...</th>\n",
              "      <th>Some hobbies I have are ...</th>\n",
              "    </tr>\n",
              "  </thead>\n",
              "  <tbody>\n",
              "    <tr>\n",
              "      <th>0</th>\n",
              "      <td>9/12/2021 15:00:26</td>\n",
              "      <td>1</td>\n",
              "      <td>SEAS</td>\n",
              "      <td>2nd Year</td>\n",
              "      <td>Mechanical Engineering</td>\n",
              "      <td>It's been a while</td>\n",
              "      <td>Kinda know it</td>\n",
              "      <td>Never touched it</td>\n",
              "      <td>Never touched it</td>\n",
              "      <td>Never touched it</td>\n",
              "      <td>Kinda know it</td>\n",
              "      <td>Kinda know it</td>\n",
              "      <td>cars</td>\n",
              "      <td>piano</td>\n",
              "    </tr>\n",
              "    <tr>\n",
              "      <th>1</th>\n",
              "      <td>9/12/2021 15:00:34</td>\n",
              "      <td>2</td>\n",
              "      <td>CLAS</td>\n",
              "      <td>2nd Year</td>\n",
              "      <td>Economics, Statistics</td>\n",
              "      <td>Nope</td>\n",
              "      <td>Kinda know it</td>\n",
              "      <td>Kinda know it</td>\n",
              "      <td>Never touched it</td>\n",
              "      <td>Never touched it</td>\n",
              "      <td>Never touched it</td>\n",
              "      <td>Love it</td>\n",
              "      <td>second hand shopping</td>\n",
              "      <td>crocheting, piano</td>\n",
              "    </tr>\n",
              "    <tr>\n",
              "      <th>2</th>\n",
              "      <td>9/12/2021 15:00:38</td>\n",
              "      <td>3</td>\n",
              "      <td>COMM</td>\n",
              "      <td>4th Year</td>\n",
              "      <td>Commerce</td>\n",
              "      <td>Nope</td>\n",
              "      <td>Kinda know it</td>\n",
              "      <td>Kinda know it</td>\n",
              "      <td>Never touched it</td>\n",
              "      <td>Never touched it</td>\n",
              "      <td>Kinda know it</td>\n",
              "      <td>Kinda know it</td>\n",
              "      <td>Social impact</td>\n",
              "      <td>Skiing, Video games, cooking</td>\n",
              "    </tr>\n",
              "    <tr>\n",
              "      <th>3</th>\n",
              "      <td>9/12/2021 15:01:01</td>\n",
              "      <td>4</td>\n",
              "      <td>CLAS</td>\n",
              "      <td>2nd Year</td>\n",
              "      <td>Commerce</td>\n",
              "      <td>It's been a while</td>\n",
              "      <td>Kinda know it</td>\n",
              "      <td>Never touched it</td>\n",
              "      <td>Never touched it</td>\n",
              "      <td>Never touched it</td>\n",
              "      <td>Kinda know it</td>\n",
              "      <td>Kinda know it</td>\n",
              "      <td>the environment, finding solutions to complex ...</td>\n",
              "      <td>basketball, surfing, cooking</td>\n",
              "    </tr>\n",
              "    <tr>\n",
              "      <th>4</th>\n",
              "      <td>9/12/2021 15:01:07</td>\n",
              "      <td>5</td>\n",
              "      <td>CLAS</td>\n",
              "      <td>1st Year</td>\n",
              "      <td>Math, Computer Science</td>\n",
              "      <td>Nope</td>\n",
              "      <td>Love it</td>\n",
              "      <td>Never touched it</td>\n",
              "      <td>Never touched it</td>\n",
              "      <td>Never touched it</td>\n",
              "      <td>Love it</td>\n",
              "      <td>Kinda know it</td>\n",
              "      <td>Theoretical Math&amp;Algorithm</td>\n",
              "      <td>Basketball, Flute, Anime</td>\n",
              "    </tr>\n",
              "  </tbody>\n",
              "</table>\n",
              "</div>"
            ],
            "text/plain": [
              "            Timestamp  Index What college are you in? What year are you?  \\\n",
              "0  9/12/2021 15:00:26      1                     SEAS           2nd Year   \n",
              "1  9/12/2021 15:00:34      2                     CLAS           2nd Year   \n",
              "2  9/12/2021 15:00:38      3                     COMM           4th Year   \n",
              "3  9/12/2021 15:01:01      4                     CLAS           2nd Year   \n",
              "4  9/12/2021 15:01:07      5                     CLAS           1st Year   \n",
              "\n",
              "  My planned (or declared) major is... (Separate each by commas)  \\\n",
              "0                            Mechanical Engineering                \n",
              "1                              Economics, Statistics               \n",
              "2                                           Commerce               \n",
              "3                                           Commerce               \n",
              "4                             Math, Computer Science               \n",
              "\n",
              "       I'm new to CS How I feel about...  [Python] How I feel about...  [R]  \\\n",
              "0  It's been a while                 Kinda know it         Never touched it   \n",
              "1               Nope                 Kinda know it            Kinda know it   \n",
              "2               Nope                 Kinda know it            Kinda know it   \n",
              "3  It's been a while                 Kinda know it         Never touched it   \n",
              "4               Nope                       Love it         Never touched it   \n",
              "\n",
              "  How I feel about...  [SQL] How I feel about...  [SAS / STATA]  \\\n",
              "0           Never touched it                   Never touched it   \n",
              "1           Never touched it                   Never touched it   \n",
              "2           Never touched it                   Never touched it   \n",
              "3           Never touched it                   Never touched it   \n",
              "4           Never touched it                   Never touched it   \n",
              "\n",
              "  How I feel about...  [Other Languages] How I feel about...  [Statistics]  \\\n",
              "0                          Kinda know it                     Kinda know it   \n",
              "1                       Never touched it                           Love it   \n",
              "2                          Kinda know it                     Kinda know it   \n",
              "3                          Kinda know it                     Kinda know it   \n",
              "4                                Love it                     Kinda know it   \n",
              "\n",
              "                            I'm passionate about ...  \\\n",
              "0                                               cars   \n",
              "1                               second hand shopping   \n",
              "2                                      Social impact   \n",
              "3  the environment, finding solutions to complex ...   \n",
              "4                         Theoretical Math&Algorithm   \n",
              "\n",
              "    Some hobbies I have are ...  \n",
              "0                         piano  \n",
              "1             crocheting, piano  \n",
              "2  Skiing, Video games, cooking  \n",
              "3  basketball, surfing, cooking  \n",
              "4      Basketball, Flute, Anime  "
            ]
          },
          "metadata": {},
          "execution_count": 4
        }
      ],
      "metadata": {
        "id": "P_yZqRNxNqDj",
        "outputId": "ea65ade4-fb63-4e6a-95a0-f7af0418c31d"
      }
    },
    {
      "cell_type": "code",
      "execution_count": null,
      "source": [
        "df2.head()"
      ],
      "outputs": [
        {
          "output_type": "execute_result",
          "data": {
            "text/html": [
              "<div>\n",
              "<style scoped>\n",
              "    .dataframe tbody tr th:only-of-type {\n",
              "        vertical-align: middle;\n",
              "    }\n",
              "\n",
              "    .dataframe tbody tr th {\n",
              "        vertical-align: top;\n",
              "    }\n",
              "\n",
              "    .dataframe thead th {\n",
              "        text-align: right;\n",
              "    }\n",
              "</style>\n",
              "<table border=\"1\" class=\"dataframe\">\n",
              "  <thead>\n",
              "    <tr style=\"text-align: right;\">\n",
              "      <th></th>\n",
              "      <th>Index</th>\n",
              "      <th>First name</th>\n",
              "      <th>Last name</th>\n",
              "      <th>Preferred name (if different)</th>\n",
              "    </tr>\n",
              "  </thead>\n",
              "  <tbody>\n",
              "    <tr>\n",
              "      <th>0</th>\n",
              "      <td>1</td>\n",
              "      <td>Victoria</td>\n",
              "      <td>Vettoretti</td>\n",
              "      <td>Vicky</td>\n",
              "    </tr>\n",
              "    <tr>\n",
              "      <th>1</th>\n",
              "      <td>2</td>\n",
              "      <td>Trey</td>\n",
              "      <td>Pallace</td>\n",
              "      <td>NaN</td>\n",
              "    </tr>\n",
              "    <tr>\n",
              "      <th>2</th>\n",
              "      <td>3</td>\n",
              "      <td>Joon</td>\n",
              "      <td>Park</td>\n",
              "      <td>NaN</td>\n",
              "    </tr>\n",
              "    <tr>\n",
              "      <th>3</th>\n",
              "      <td>4</td>\n",
              "      <td>James</td>\n",
              "      <td>Cowen</td>\n",
              "      <td>Harry</td>\n",
              "    </tr>\n",
              "    <tr>\n",
              "      <th>4</th>\n",
              "      <td>5</td>\n",
              "      <td>Liran</td>\n",
              "      <td>Li</td>\n",
              "      <td>Stephen Li</td>\n",
              "    </tr>\n",
              "  </tbody>\n",
              "</table>\n",
              "</div>"
            ],
            "text/plain": [
              "   Index First name   Last name Preferred name (if different)\n",
              "0      1   Victoria  Vettoretti                         Vicky\n",
              "1      2       Trey     Pallace                           NaN\n",
              "2      3       Joon        Park                           NaN\n",
              "3      4      James       Cowen                         Harry\n",
              "4      5      Liran          Li                    Stephen Li"
            ]
          },
          "metadata": {},
          "execution_count": 5
        }
      ],
      "metadata": {
        "id": "q8DsL6_oWLAl",
        "outputId": "f5e84ba9-6573-4f0e-81e7-839df08a7fe3"
      }
    },
    {
      "cell_type": "markdown",
      "source": [
        "It looks like the data is all from the same form, but the name columns got separated from the rest of the info. Merge the two dataframes"
      ],
      "metadata": {
        "id": "TG9HV-ttn6Tm"
      }
    },
    {
      "cell_type": "code",
      "execution_count": null,
      "source": [
        "# Merge on the Index column\n",
        "df = pd.merge(df1, df2, on=\"Index\", how=\"outer\")\n",
        "df.head()"
      ],
      "outputs": [
        {
          "output_type": "execute_result",
          "data": {
            "text/html": [
              "<div>\n",
              "<style scoped>\n",
              "    .dataframe tbody tr th:only-of-type {\n",
              "        vertical-align: middle;\n",
              "    }\n",
              "\n",
              "    .dataframe tbody tr th {\n",
              "        vertical-align: top;\n",
              "    }\n",
              "\n",
              "    .dataframe thead th {\n",
              "        text-align: right;\n",
              "    }\n",
              "</style>\n",
              "<table border=\"1\" class=\"dataframe\">\n",
              "  <thead>\n",
              "    <tr style=\"text-align: right;\">\n",
              "      <th></th>\n",
              "      <th>Timestamp</th>\n",
              "      <th>Index</th>\n",
              "      <th>What college are you in?</th>\n",
              "      <th>What year are you?</th>\n",
              "      <th>My planned (or declared) major is... (Separate each by commas)</th>\n",
              "      <th>I'm new to CS</th>\n",
              "      <th>How I feel about...  [Python]</th>\n",
              "      <th>How I feel about...  [R]</th>\n",
              "      <th>How I feel about...  [SQL]</th>\n",
              "      <th>How I feel about...  [SAS / STATA]</th>\n",
              "      <th>How I feel about...  [Other Languages]</th>\n",
              "      <th>How I feel about...  [Statistics]</th>\n",
              "      <th>I'm passionate about ...</th>\n",
              "      <th>Some hobbies I have are ...</th>\n",
              "      <th>First name</th>\n",
              "      <th>Last name</th>\n",
              "      <th>Preferred name (if different)</th>\n",
              "    </tr>\n",
              "  </thead>\n",
              "  <tbody>\n",
              "    <tr>\n",
              "      <th>0</th>\n",
              "      <td>9/12/2021 15:00:26</td>\n",
              "      <td>1</td>\n",
              "      <td>SEAS</td>\n",
              "      <td>2nd Year</td>\n",
              "      <td>Mechanical Engineering</td>\n",
              "      <td>It's been a while</td>\n",
              "      <td>Kinda know it</td>\n",
              "      <td>Never touched it</td>\n",
              "      <td>Never touched it</td>\n",
              "      <td>Never touched it</td>\n",
              "      <td>Kinda know it</td>\n",
              "      <td>Kinda know it</td>\n",
              "      <td>cars</td>\n",
              "      <td>piano</td>\n",
              "      <td>Victoria</td>\n",
              "      <td>Vettoretti</td>\n",
              "      <td>Vicky</td>\n",
              "    </tr>\n",
              "    <tr>\n",
              "      <th>1</th>\n",
              "      <td>9/12/2021 15:00:34</td>\n",
              "      <td>2</td>\n",
              "      <td>CLAS</td>\n",
              "      <td>2nd Year</td>\n",
              "      <td>Economics, Statistics</td>\n",
              "      <td>Nope</td>\n",
              "      <td>Kinda know it</td>\n",
              "      <td>Kinda know it</td>\n",
              "      <td>Never touched it</td>\n",
              "      <td>Never touched it</td>\n",
              "      <td>Never touched it</td>\n",
              "      <td>Love it</td>\n",
              "      <td>second hand shopping</td>\n",
              "      <td>crocheting, piano</td>\n",
              "      <td>Trey</td>\n",
              "      <td>Pallace</td>\n",
              "      <td>NaN</td>\n",
              "    </tr>\n",
              "    <tr>\n",
              "      <th>2</th>\n",
              "      <td>9/12/2021 15:00:38</td>\n",
              "      <td>3</td>\n",
              "      <td>COMM</td>\n",
              "      <td>4th Year</td>\n",
              "      <td>Commerce</td>\n",
              "      <td>Nope</td>\n",
              "      <td>Kinda know it</td>\n",
              "      <td>Kinda know it</td>\n",
              "      <td>Never touched it</td>\n",
              "      <td>Never touched it</td>\n",
              "      <td>Kinda know it</td>\n",
              "      <td>Kinda know it</td>\n",
              "      <td>Social impact</td>\n",
              "      <td>Skiing, Video games, cooking</td>\n",
              "      <td>Joon</td>\n",
              "      <td>Park</td>\n",
              "      <td>NaN</td>\n",
              "    </tr>\n",
              "    <tr>\n",
              "      <th>3</th>\n",
              "      <td>9/12/2021 15:01:01</td>\n",
              "      <td>4</td>\n",
              "      <td>CLAS</td>\n",
              "      <td>2nd Year</td>\n",
              "      <td>Commerce</td>\n",
              "      <td>It's been a while</td>\n",
              "      <td>Kinda know it</td>\n",
              "      <td>Never touched it</td>\n",
              "      <td>Never touched it</td>\n",
              "      <td>Never touched it</td>\n",
              "      <td>Kinda know it</td>\n",
              "      <td>Kinda know it</td>\n",
              "      <td>the environment, finding solutions to complex ...</td>\n",
              "      <td>basketball, surfing, cooking</td>\n",
              "      <td>James</td>\n",
              "      <td>Cowen</td>\n",
              "      <td>Harry</td>\n",
              "    </tr>\n",
              "    <tr>\n",
              "      <th>4</th>\n",
              "      <td>9/12/2021 15:01:07</td>\n",
              "      <td>5</td>\n",
              "      <td>CLAS</td>\n",
              "      <td>1st Year</td>\n",
              "      <td>Math, Computer Science</td>\n",
              "      <td>Nope</td>\n",
              "      <td>Love it</td>\n",
              "      <td>Never touched it</td>\n",
              "      <td>Never touched it</td>\n",
              "      <td>Never touched it</td>\n",
              "      <td>Love it</td>\n",
              "      <td>Kinda know it</td>\n",
              "      <td>Theoretical Math&amp;Algorithm</td>\n",
              "      <td>Basketball, Flute, Anime</td>\n",
              "      <td>Liran</td>\n",
              "      <td>Li</td>\n",
              "      <td>Stephen Li</td>\n",
              "    </tr>\n",
              "  </tbody>\n",
              "</table>\n",
              "</div>"
            ],
            "text/plain": [
              "            Timestamp  Index What college are you in? What year are you?  \\\n",
              "0  9/12/2021 15:00:26      1                     SEAS           2nd Year   \n",
              "1  9/12/2021 15:00:34      2                     CLAS           2nd Year   \n",
              "2  9/12/2021 15:00:38      3                     COMM           4th Year   \n",
              "3  9/12/2021 15:01:01      4                     CLAS           2nd Year   \n",
              "4  9/12/2021 15:01:07      5                     CLAS           1st Year   \n",
              "\n",
              "  My planned (or declared) major is... (Separate each by commas)  \\\n",
              "0                            Mechanical Engineering                \n",
              "1                              Economics, Statistics               \n",
              "2                                           Commerce               \n",
              "3                                           Commerce               \n",
              "4                             Math, Computer Science               \n",
              "\n",
              "       I'm new to CS How I feel about...  [Python] How I feel about...  [R]  \\\n",
              "0  It's been a while                 Kinda know it         Never touched it   \n",
              "1               Nope                 Kinda know it            Kinda know it   \n",
              "2               Nope                 Kinda know it            Kinda know it   \n",
              "3  It's been a while                 Kinda know it         Never touched it   \n",
              "4               Nope                       Love it         Never touched it   \n",
              "\n",
              "  How I feel about...  [SQL] How I feel about...  [SAS / STATA]  \\\n",
              "0           Never touched it                   Never touched it   \n",
              "1           Never touched it                   Never touched it   \n",
              "2           Never touched it                   Never touched it   \n",
              "3           Never touched it                   Never touched it   \n",
              "4           Never touched it                   Never touched it   \n",
              "\n",
              "  How I feel about...  [Other Languages] How I feel about...  [Statistics]  \\\n",
              "0                          Kinda know it                     Kinda know it   \n",
              "1                       Never touched it                           Love it   \n",
              "2                          Kinda know it                     Kinda know it   \n",
              "3                          Kinda know it                     Kinda know it   \n",
              "4                                Love it                     Kinda know it   \n",
              "\n",
              "                            I'm passionate about ...  \\\n",
              "0                                               cars   \n",
              "1                               second hand shopping   \n",
              "2                                      Social impact   \n",
              "3  the environment, finding solutions to complex ...   \n",
              "4                         Theoretical Math&Algorithm   \n",
              "\n",
              "    Some hobbies I have are ... First name   Last name  \\\n",
              "0                         piano   Victoria  Vettoretti   \n",
              "1             crocheting, piano       Trey     Pallace   \n",
              "2  Skiing, Video games, cooking       Joon        Park   \n",
              "3  basketball, surfing, cooking      James       Cowen   \n",
              "4      Basketball, Flute, Anime      Liran          Li   \n",
              "\n",
              "  Preferred name (if different)  \n",
              "0                         Vicky  \n",
              "1                           NaN  \n",
              "2                           NaN  \n",
              "3                         Harry  \n",
              "4                    Stephen Li  "
            ]
          },
          "metadata": {},
          "execution_count": 10
        }
      ],
      "metadata": {
        "id": "CXyQWnfMWX5q",
        "outputId": "df1688ca-125d-476c-bb3e-bc81cefe50d5"
      }
    },
    {
      "cell_type": "markdown",
      "source": [
        "Now we have all the data together. Let's get some more info about the columns of the dataframe"
      ],
      "metadata": {
        "id": "V-Nm6HLEoEYd"
      }
    },
    {
      "cell_type": "code",
      "execution_count": null,
      "source": [
        "# Get info from the dataframe\n",
        "df.info()"
      ],
      "outputs": [
        {
          "output_type": "stream",
          "name": "stdout",
          "text": [
            "<class 'pandas.core.frame.DataFrame'>\n",
            "Int64Index: 18 entries, 0 to 17\n",
            "Data columns (total 17 columns):\n",
            " #   Column                                                          Non-Null Count  Dtype \n",
            "---  ------                                                          --------------  ----- \n",
            " 0   Timestamp                                                       18 non-null     object\n",
            " 1   Index                                                           18 non-null     int64 \n",
            " 2   What college are you in?                                        15 non-null     object\n",
            " 3   What year are you?                                              18 non-null     object\n",
            " 4   My planned (or declared) major is... (Separate each by commas)  18 non-null     object\n",
            " 5   I'm new to CS                                                   18 non-null     object\n",
            " 6   How I feel about...  [Python]                                   18 non-null     object\n",
            " 7   How I feel about...  [R]                                        18 non-null     object\n",
            " 8   How I feel about...  [SQL]                                      18 non-null     object\n",
            " 9   How I feel about...  [SAS / STATA]                              18 non-null     object\n",
            " 10  How I feel about...  [Other Languages]                          18 non-null     object\n",
            " 11  How I feel about...  [Statistics]                               18 non-null     object\n",
            " 12  I'm passionate about ...                                        17 non-null     object\n",
            " 13  Some hobbies I have are ...                                     18 non-null     object\n",
            " 14  First name                                                      18 non-null     object\n",
            " 15  Last name                                                       18 non-null     object\n",
            " 16  Preferred name (if different)                                   10 non-null     object\n",
            "dtypes: int64(1), object(16)\n",
            "memory usage: 2.5+ KB\n"
          ]
        }
      ],
      "metadata": {
        "id": "CiRPUhN7N2sv",
        "outputId": "d324e339-4f74-41d8-886a-a32019211e94"
      }
    },
    {
      "cell_type": "markdown",
      "source": [
        "You'll notice that from the previous step, all of the columns are objects except Index. Let's change that and make the Index column a column of strings instead of integers"
      ],
      "metadata": {
        "id": "m6qOm5BeoTwb"
      }
    },
    {
      "cell_type": "code",
      "execution_count": null,
      "source": [
        "# Convert the Index column from ints to Strings\n",
        "df['Index'] = df.Index.astype(str)"
      ],
      "outputs": [],
      "metadata": {
        "id": "DzgKaFbBN5MQ"
      }
    },
    {
      "cell_type": "code",
      "execution_count": null,
      "source": [
        "# See the changes by looking at the dataframe info again\n",
        "df.info()"
      ],
      "outputs": [
        {
          "output_type": "stream",
          "name": "stdout",
          "text": [
            "<class 'pandas.core.frame.DataFrame'>\n",
            "Int64Index: 18 entries, 0 to 17\n",
            "Data columns (total 17 columns):\n",
            " #   Column                                                          Non-Null Count  Dtype \n",
            "---  ------                                                          --------------  ----- \n",
            " 0   Timestamp                                                       18 non-null     object\n",
            " 1   Index                                                           18 non-null     object\n",
            " 2   What college are you in?                                        15 non-null     object\n",
            " 3   What year are you?                                              18 non-null     object\n",
            " 4   My planned (or declared) major is... (Separate each by commas)  18 non-null     object\n",
            " 5   I'm new to CS                                                   18 non-null     object\n",
            " 6   How I feel about...  [Python]                                   18 non-null     object\n",
            " 7   How I feel about...  [R]                                        18 non-null     object\n",
            " 8   How I feel about...  [SQL]                                      18 non-null     object\n",
            " 9   How I feel about...  [SAS / STATA]                              18 non-null     object\n",
            " 10  How I feel about...  [Other Languages]                          18 non-null     object\n",
            " 11  How I feel about...  [Statistics]                               18 non-null     object\n",
            " 12  I'm passionate about ...                                        17 non-null     object\n",
            " 13  Some hobbies I have are ...                                     18 non-null     object\n",
            " 14  First name                                                      18 non-null     object\n",
            " 15  Last name                                                       18 non-null     object\n",
            " 16  Preferred name (if different)                                   10 non-null     object\n",
            "dtypes: object(17)\n",
            "memory usage: 2.5+ KB\n"
          ]
        }
      ],
      "metadata": {
        "id": "sz5H0SkkN7hV",
        "outputId": "2f37b42e-03c2-4bad-eb99-59482b26ed72"
      }
    },
    {
      "cell_type": "markdown",
      "source": [
        "It looks like the column names are super long, which could be a problem down the line. Let's shorten them. So you don't have to write out a new name for each column, here's a list of new column names:\n",
        "\n",
        "'timestamp', 'index', 'college', 'year', 'major', 'cs_new', 'python_feel', 'r_feel', 'sql_feel', 'sas_feel', 'other_languages_feel', 'stats_feel', 'ds_interest', 'hobbies', 'first', 'last', 'nickname'\n"
      ],
      "metadata": {
        "id": "dFx8dvenolWu"
      }
    },
    {
      "cell_type": "code",
      "execution_count": null,
      "source": [
        "# Get the column names\n",
        "df.columns"
      ],
      "outputs": [
        {
          "output_type": "execute_result",
          "data": {
            "text/plain": [
              "Index(['Timestamp', 'Index', 'What college are you in?', 'What year are you?',\n",
              "       'My planned (or declared) major is... (Separate each by commas)',\n",
              "       'I'm new to CS', 'How I feel about...  [Python]',\n",
              "       'How I feel about...  [R]', 'How I feel about...  [SQL]',\n",
              "       'How I feel about...  [SAS / STATA]',\n",
              "       'How I feel about...  [Other Languages]',\n",
              "       'How I feel about...  [Statistics]', 'I'm passionate about ...',\n",
              "       'Some hobbies I have are ...', 'First name', 'Last name',\n",
              "       'Preferred name (if different)'],\n",
              "      dtype='object')"
            ]
          },
          "metadata": {},
          "execution_count": 13
        }
      ],
      "metadata": {
        "id": "gZzb0X9uOMiY",
        "outputId": "3902bb4c-1336-493a-c5a0-3f66b2e1fb71"
      }
    },
    {
      "cell_type": "code",
      "execution_count": null,
      "source": [
        "# Rename them to something better\n",
        "df.columns = ['timestamp', 'index', 'college', 'year', 'major', 'cs_new', 'python_feel', 'r_feel', 'sql_feel', 'sas_feel', 'other_languages_feel', 'stats_feel', 'ds_interest', 'hobbies', 'first', 'last', 'nickname']"
      ],
      "outputs": [],
      "metadata": {
        "id": "Wc_YWUyMOol3"
      }
    },
    {
      "cell_type": "markdown",
      "source": [
        "Take a look at the nicknames column. It seems like not that many people have nicknames. Let's find out exactly how many people don't have nicknames\n"
      ],
      "metadata": {
        "id": "NRcLQ3sEQqV-"
      }
    },
    {
      "cell_type": "code",
      "execution_count": null,
      "source": [
        "# How many people don't have nicknames\n",
        "df.nickname.isna().value_counts() #8 people with nicknames"
      ],
      "outputs": [
        {
          "output_type": "execute_result",
          "data": {
            "text/plain": [
              "False    10\n",
              "True      8\n",
              "Name: nickname, dtype: int64"
            ]
          },
          "metadata": {},
          "execution_count": 22
        }
      ],
      "metadata": {
        "id": "6cizA1d2QS0Q",
        "outputId": "166845fb-d6bd-4cfb-c23a-986c9a41a1c8"
      }
    },
    {
      "cell_type": "markdown",
      "source": [
        "To confuse Ishaan, the PCs decided to call everyone who doesn't have a preferred nickname Ishaan. Change the dataframe to reflect this."
      ],
      "metadata": {
        "id": "DMIsffuDpElL"
      }
    },
    {
      "cell_type": "code",
      "execution_count": null,
      "source": [
        "# Replace empty fields in the nickname column to Ishaan\n",
        "df['nickname'] = df.nickname.fillna('Ishaan')"
      ],
      "outputs": [],
      "metadata": {
        "id": "mwTnql3QPuvl"
      }
    },
    {
      "cell_type": "markdown",
      "source": [
        "Some people forgot to fill out the college field. Let's assume they go to Virginia Tech (ew)"
      ],
      "metadata": {
        "id": "OTTk9DL6pX4H"
      }
    },
    {
      "cell_type": "code",
      "execution_count": null,
      "source": [
        "# Assume that people who don't have a college go to Virginia Tech (VT)\n",
        "df['college'] = df.college.fillna(\"VT :(\")"
      ],
      "outputs": [],
      "metadata": {
        "id": "7Ghx4PLcR6iq"
      }
    },
    {
      "cell_type": "markdown",
      "source": [
        "Unfortunately, most colleges don't use the terms 1st year, 2nd year, 3rd year and 4th year. Make the data more accessible by changing the year data to freshman, sophomore, junior and senior (leave graduate school as is)"
      ],
      "metadata": {
        "id": "LkMGTVOAQtSQ"
      }
    },
    {
      "cell_type": "code",
      "execution_count": null,
      "source": [
        "# Change the year names to what the plebs(jk) call them\n",
        "df['year'] = df.year.replace({\"1st Year\":\"Freshman\", \"2nd Year\":\"Sophomore\", \"3rd Year\": \"Junior\", \"4th Year\": \"Senior\"})\n",
        "df"
      ],
      "outputs": [
        {
          "output_type": "execute_result",
          "data": {
            "text/html": [
              "<div>\n",
              "<style scoped>\n",
              "    .dataframe tbody tr th:only-of-type {\n",
              "        vertical-align: middle;\n",
              "    }\n",
              "\n",
              "    .dataframe tbody tr th {\n",
              "        vertical-align: top;\n",
              "    }\n",
              "\n",
              "    .dataframe thead th {\n",
              "        text-align: right;\n",
              "    }\n",
              "</style>\n",
              "<table border=\"1\" class=\"dataframe\">\n",
              "  <thead>\n",
              "    <tr style=\"text-align: right;\">\n",
              "      <th></th>\n",
              "      <th>timestamp</th>\n",
              "      <th>index</th>\n",
              "      <th>college</th>\n",
              "      <th>year</th>\n",
              "      <th>major</th>\n",
              "      <th>cs_new</th>\n",
              "      <th>python_feel</th>\n",
              "      <th>r_feel</th>\n",
              "      <th>sql_feel</th>\n",
              "      <th>sas_feel</th>\n",
              "      <th>other_languages_feel</th>\n",
              "      <th>stats_feel</th>\n",
              "      <th>ds_interest</th>\n",
              "      <th>hobbies</th>\n",
              "      <th>first</th>\n",
              "      <th>last</th>\n",
              "      <th>nickname</th>\n",
              "    </tr>\n",
              "  </thead>\n",
              "  <tbody>\n",
              "    <tr>\n",
              "      <th>0</th>\n",
              "      <td>9/12/2021 15:00:26</td>\n",
              "      <td>1</td>\n",
              "      <td>SEAS</td>\n",
              "      <td>Sophomore</td>\n",
              "      <td>Mechanical Engineering</td>\n",
              "      <td>It's been a while</td>\n",
              "      <td>Kinda know it</td>\n",
              "      <td>Never touched it</td>\n",
              "      <td>Never touched it</td>\n",
              "      <td>Never touched it</td>\n",
              "      <td>Kinda know it</td>\n",
              "      <td>Kinda know it</td>\n",
              "      <td>cars</td>\n",
              "      <td>piano</td>\n",
              "      <td>Victoria</td>\n",
              "      <td>Vettoretti</td>\n",
              "      <td>Vicky</td>\n",
              "    </tr>\n",
              "    <tr>\n",
              "      <th>1</th>\n",
              "      <td>9/12/2021 15:00:34</td>\n",
              "      <td>2</td>\n",
              "      <td>CLAS</td>\n",
              "      <td>Sophomore</td>\n",
              "      <td>Economics, Statistics</td>\n",
              "      <td>Nope</td>\n",
              "      <td>Kinda know it</td>\n",
              "      <td>Kinda know it</td>\n",
              "      <td>Never touched it</td>\n",
              "      <td>Never touched it</td>\n",
              "      <td>Never touched it</td>\n",
              "      <td>Love it</td>\n",
              "      <td>second hand shopping</td>\n",
              "      <td>crocheting, piano</td>\n",
              "      <td>Trey</td>\n",
              "      <td>Pallace</td>\n",
              "      <td>Ishaan</td>\n",
              "    </tr>\n",
              "    <tr>\n",
              "      <th>2</th>\n",
              "      <td>9/12/2021 15:00:38</td>\n",
              "      <td>3</td>\n",
              "      <td>COMM</td>\n",
              "      <td>Senior</td>\n",
              "      <td>Commerce</td>\n",
              "      <td>Nope</td>\n",
              "      <td>Kinda know it</td>\n",
              "      <td>Kinda know it</td>\n",
              "      <td>Never touched it</td>\n",
              "      <td>Never touched it</td>\n",
              "      <td>Kinda know it</td>\n",
              "      <td>Kinda know it</td>\n",
              "      <td>Social impact</td>\n",
              "      <td>Skiing, Video games, cooking</td>\n",
              "      <td>Joon</td>\n",
              "      <td>Park</td>\n",
              "      <td>Ishaan</td>\n",
              "    </tr>\n",
              "    <tr>\n",
              "      <th>3</th>\n",
              "      <td>9/12/2021 15:01:01</td>\n",
              "      <td>4</td>\n",
              "      <td>CLAS</td>\n",
              "      <td>Sophomore</td>\n",
              "      <td>Commerce</td>\n",
              "      <td>It's been a while</td>\n",
              "      <td>Kinda know it</td>\n",
              "      <td>Never touched it</td>\n",
              "      <td>Never touched it</td>\n",
              "      <td>Never touched it</td>\n",
              "      <td>Kinda know it</td>\n",
              "      <td>Kinda know it</td>\n",
              "      <td>the environment, finding solutions to complex ...</td>\n",
              "      <td>basketball, surfing, cooking</td>\n",
              "      <td>James</td>\n",
              "      <td>Cowen</td>\n",
              "      <td>Harry</td>\n",
              "    </tr>\n",
              "    <tr>\n",
              "      <th>4</th>\n",
              "      <td>9/12/2021 15:01:07</td>\n",
              "      <td>5</td>\n",
              "      <td>CLAS</td>\n",
              "      <td>Freshman</td>\n",
              "      <td>Math, Computer Science</td>\n",
              "      <td>Nope</td>\n",
              "      <td>Love it</td>\n",
              "      <td>Never touched it</td>\n",
              "      <td>Never touched it</td>\n",
              "      <td>Never touched it</td>\n",
              "      <td>Love it</td>\n",
              "      <td>Kinda know it</td>\n",
              "      <td>Theoretical Math&amp;Algorithm</td>\n",
              "      <td>Basketball, Flute, Anime</td>\n",
              "      <td>Liran</td>\n",
              "      <td>Li</td>\n",
              "      <td>Stephen Li</td>\n",
              "    </tr>\n",
              "    <tr>\n",
              "      <th>5</th>\n",
              "      <td>9/12/2021 15:01:34</td>\n",
              "      <td>6</td>\n",
              "      <td>CLAS</td>\n",
              "      <td>Sophomore</td>\n",
              "      <td>Statistics</td>\n",
              "      <td>Nope</td>\n",
              "      <td>Kinda know it</td>\n",
              "      <td>Never touched it</td>\n",
              "      <td>Never touched it</td>\n",
              "      <td>Never touched it</td>\n",
              "      <td>Never touched it</td>\n",
              "      <td>Kinda know it</td>\n",
              "      <td>finance/investing</td>\n",
              "      <td>listening to music and  investing</td>\n",
              "      <td>REDACTED</td>\n",
              "      <td>REDACTED</td>\n",
              "      <td>REDACTED</td>\n",
              "    </tr>\n",
              "    <tr>\n",
              "      <th>6</th>\n",
              "      <td>9/12/2021 15:01:51</td>\n",
              "      <td>7</td>\n",
              "      <td>CLAS</td>\n",
              "      <td>Freshman</td>\n",
              "      <td>Physics, Statistics</td>\n",
              "      <td>Nope</td>\n",
              "      <td>Kinda know it</td>\n",
              "      <td>Never touched it</td>\n",
              "      <td>Never touched it</td>\n",
              "      <td>Never touched it</td>\n",
              "      <td>Kinda know it</td>\n",
              "      <td>Love it</td>\n",
              "      <td>Astronomy, Statistics, Science in general</td>\n",
              "      <td>Reading, listening to music, dancing, cooking,...</td>\n",
              "      <td>Olivia</td>\n",
              "      <td>Mostow</td>\n",
              "      <td>Ishaan</td>\n",
              "    </tr>\n",
              "    <tr>\n",
              "      <th>7</th>\n",
              "      <td>9/12/2021 15:02:16</td>\n",
              "      <td>8</td>\n",
              "      <td>VT :(</td>\n",
              "      <td>Sophomore</td>\n",
              "      <td>Computer Engineering</td>\n",
              "      <td>Nope</td>\n",
              "      <td>Kinda know it</td>\n",
              "      <td>Never touched it</td>\n",
              "      <td>Never touched it</td>\n",
              "      <td>Never touched it</td>\n",
              "      <td>Kinda know it</td>\n",
              "      <td>Kinda know it</td>\n",
              "      <td>Experiential Learning, Good Spreadsheets</td>\n",
              "      <td>Video Games, Anime</td>\n",
              "      <td>Daniel</td>\n",
              "      <td>Xue</td>\n",
              "      <td>Ishaan</td>\n",
              "    </tr>\n",
              "    <tr>\n",
              "      <th>8</th>\n",
              "      <td>9/12/2021 15:02:52</td>\n",
              "      <td>9</td>\n",
              "      <td>CLAS</td>\n",
              "      <td>Sophomore</td>\n",
              "      <td>Commerce, Economics</td>\n",
              "      <td>It's been a while</td>\n",
              "      <td>Kinda know it</td>\n",
              "      <td>Never touched it</td>\n",
              "      <td>Never touched it</td>\n",
              "      <td>Never touched it</td>\n",
              "      <td>Never touched it</td>\n",
              "      <td>Kinda know it</td>\n",
              "      <td>Business</td>\n",
              "      <td>Exercise, play basketball, watch netflix</td>\n",
              "      <td>REDACTED</td>\n",
              "      <td>REDACTED</td>\n",
              "      <td>REDACTED</td>\n",
              "    </tr>\n",
              "    <tr>\n",
              "      <th>9</th>\n",
              "      <td>9/12/2021 15:02:59</td>\n",
              "      <td>10</td>\n",
              "      <td>SEAS</td>\n",
              "      <td>Sophomore</td>\n",
              "      <td>Computer Science</td>\n",
              "      <td>Nope</td>\n",
              "      <td>Kinda know it</td>\n",
              "      <td>Kinda know it</td>\n",
              "      <td>Never touched it</td>\n",
              "      <td>Never touched it</td>\n",
              "      <td>Kinda know it</td>\n",
              "      <td>Kinda know it</td>\n",
              "      <td>Arts and movies</td>\n",
              "      <td>Painting, reading</td>\n",
              "      <td>Harshita</td>\n",
              "      <td>Tirumalapudi</td>\n",
              "      <td>Ishaan</td>\n",
              "    </tr>\n",
              "    <tr>\n",
              "      <th>10</th>\n",
              "      <td>9/12/2021 15:06:01</td>\n",
              "      <td>11</td>\n",
              "      <td>SEAS</td>\n",
              "      <td>Freshman</td>\n",
              "      <td>CS</td>\n",
              "      <td>It's been a while</td>\n",
              "      <td>Kinda know it</td>\n",
              "      <td>Never touched it</td>\n",
              "      <td>Kinda know it</td>\n",
              "      <td>Never touched it</td>\n",
              "      <td>Kinda know it</td>\n",
              "      <td>Never touched it</td>\n",
              "      <td>CS</td>\n",
              "      <td>Watching Movies</td>\n",
              "      <td>Wilachat</td>\n",
              "      <td>Weesakul</td>\n",
              "      <td>Waan</td>\n",
              "    </tr>\n",
              "    <tr>\n",
              "      <th>11</th>\n",
              "      <td>9/12/2021 15:06:27</td>\n",
              "      <td>12</td>\n",
              "      <td>VT :(</td>\n",
              "      <td>Graduate school</td>\n",
              "      <td>Systems Engineering</td>\n",
              "      <td>Yep</td>\n",
              "      <td>Kinda know it</td>\n",
              "      <td>Kinda know it</td>\n",
              "      <td>Kinda know it</td>\n",
              "      <td>Never touched it</td>\n",
              "      <td>Never touched it</td>\n",
              "      <td>Kinda know it</td>\n",
              "      <td>Management Science / Operations Research</td>\n",
              "      <td>Hiking, travelling, lacrosse</td>\n",
              "      <td>Charles</td>\n",
              "      <td>Warburton</td>\n",
              "      <td>Andrew</td>\n",
              "    </tr>\n",
              "    <tr>\n",
              "      <th>12</th>\n",
              "      <td>9/12/2021 17:28:07</td>\n",
              "      <td>13</td>\n",
              "      <td>CLAS</td>\n",
              "      <td>Junior</td>\n",
              "      <td>CS</td>\n",
              "      <td>Nope</td>\n",
              "      <td>Kinda know it</td>\n",
              "      <td>Never touched it</td>\n",
              "      <td>Kinda know it</td>\n",
              "      <td>Never touched it</td>\n",
              "      <td>Love it</td>\n",
              "      <td>Kinda know it</td>\n",
              "      <td>Startups, tech, philanthropy</td>\n",
              "      <td>running, tennis, photography, brazilian jiu jitsu</td>\n",
              "      <td>Victor</td>\n",
              "      <td>Luo</td>\n",
              "      <td>Ishaan</td>\n",
              "    </tr>\n",
              "    <tr>\n",
              "      <th>13</th>\n",
              "      <td>9/12/2021 19:22:13</td>\n",
              "      <td>14</td>\n",
              "      <td>CLAS</td>\n",
              "      <td>Sophomore</td>\n",
              "      <td>Economics</td>\n",
              "      <td>Yep</td>\n",
              "      <td>Hate it</td>\n",
              "      <td>Never touched it</td>\n",
              "      <td>Never touched it</td>\n",
              "      <td>Never touched it</td>\n",
              "      <td>Never touched it</td>\n",
              "      <td>Kinda know it</td>\n",
              "      <td>NaN</td>\n",
              "      <td>lax, netflix, trying new food places</td>\n",
              "      <td>Ashita</td>\n",
              "      <td>Sahu</td>\n",
              "      <td>Ash</td>\n",
              "    </tr>\n",
              "    <tr>\n",
              "      <th>14</th>\n",
              "      <td>9/13/2021 12:27:10</td>\n",
              "      <td>15</td>\n",
              "      <td>CLAS</td>\n",
              "      <td>Senior</td>\n",
              "      <td>Economics</td>\n",
              "      <td>Nope</td>\n",
              "      <td>Kinda know it</td>\n",
              "      <td>Kinda know it</td>\n",
              "      <td>Never touched it</td>\n",
              "      <td>Kinda know it</td>\n",
              "      <td>Kinda know it</td>\n",
              "      <td>Kinda know it</td>\n",
              "      <td>Women's rights, the environment, fashion</td>\n",
              "      <td>Playing soccer, cooking, art</td>\n",
              "      <td>Noele</td>\n",
              "      <td>Galindo</td>\n",
              "      <td>Ishaan</td>\n",
              "    </tr>\n",
              "    <tr>\n",
              "      <th>15</th>\n",
              "      <td>9/13/2021 17:44:07</td>\n",
              "      <td>16</td>\n",
              "      <td>VT :(</td>\n",
              "      <td>Freshman</td>\n",
              "      <td>Economics, Statistics, Commerce</td>\n",
              "      <td>Yep</td>\n",
              "      <td>Kinda know it</td>\n",
              "      <td>Never touched it</td>\n",
              "      <td>Never touched it</td>\n",
              "      <td>Never touched it</td>\n",
              "      <td>Never touched it</td>\n",
              "      <td>Love it</td>\n",
              "      <td>Using tech to address the world's issues</td>\n",
              "      <td>Reading, basketball, lacrosse, swimming</td>\n",
              "      <td>Benjamin</td>\n",
              "      <td>Kim</td>\n",
              "      <td>Ben</td>\n",
              "    </tr>\n",
              "    <tr>\n",
              "      <th>16</th>\n",
              "      <td>9/15/2021 16:19:44</td>\n",
              "      <td>17</td>\n",
              "      <td>CLAS</td>\n",
              "      <td>Senior</td>\n",
              "      <td>Computer Science, Economics</td>\n",
              "      <td>Nope</td>\n",
              "      <td>Love it</td>\n",
              "      <td>Kinda know it</td>\n",
              "      <td>Never touched it</td>\n",
              "      <td>Kinda know it</td>\n",
              "      <td>Kinda know it</td>\n",
              "      <td>Love it</td>\n",
              "      <td>learning new things</td>\n",
              "      <td>Writing</td>\n",
              "      <td>REDACTED</td>\n",
              "      <td>REDACTED</td>\n",
              "      <td>REDACTED</td>\n",
              "    </tr>\n",
              "    <tr>\n",
              "      <th>17</th>\n",
              "      <td>9/19/2021 13:44:52</td>\n",
              "      <td>18</td>\n",
              "      <td>CLAS</td>\n",
              "      <td>Sophomore</td>\n",
              "      <td>Economics, Statistics</td>\n",
              "      <td>It's been a while</td>\n",
              "      <td>Kinda know it</td>\n",
              "      <td>Never touched it</td>\n",
              "      <td>Never touched it</td>\n",
              "      <td>Never touched it</td>\n",
              "      <td>Never touched it</td>\n",
              "      <td>Kinda know it</td>\n",
              "      <td>My friends and family and UVa</td>\n",
              "      <td>Basketball, running, hanging out with friends</td>\n",
              "      <td>Robert</td>\n",
              "      <td>Carrington</td>\n",
              "      <td>Ishaan</td>\n",
              "    </tr>\n",
              "  </tbody>\n",
              "</table>\n",
              "</div>"
            ],
            "text/plain": [
              "             timestamp index college             year  \\\n",
              "0   9/12/2021 15:00:26     1    SEAS        Sophomore   \n",
              "1   9/12/2021 15:00:34     2    CLAS        Sophomore   \n",
              "2   9/12/2021 15:00:38     3    COMM           Senior   \n",
              "3   9/12/2021 15:01:01     4    CLAS        Sophomore   \n",
              "4   9/12/2021 15:01:07     5    CLAS         Freshman   \n",
              "5   9/12/2021 15:01:34     6    CLAS        Sophomore   \n",
              "6   9/12/2021 15:01:51     7    CLAS         Freshman   \n",
              "7   9/12/2021 15:02:16     8   VT :(        Sophomore   \n",
              "8   9/12/2021 15:02:52     9    CLAS        Sophomore   \n",
              "9   9/12/2021 15:02:59    10    SEAS        Sophomore   \n",
              "10  9/12/2021 15:06:01    11    SEAS         Freshman   \n",
              "11  9/12/2021 15:06:27    12   VT :(  Graduate school   \n",
              "12  9/12/2021 17:28:07    13    CLAS           Junior   \n",
              "13  9/12/2021 19:22:13    14    CLAS        Sophomore   \n",
              "14  9/13/2021 12:27:10    15    CLAS           Senior   \n",
              "15  9/13/2021 17:44:07    16   VT :(         Freshman   \n",
              "16  9/15/2021 16:19:44    17    CLAS           Senior   \n",
              "17  9/19/2021 13:44:52    18    CLAS        Sophomore   \n",
              "\n",
              "                              major             cs_new    python_feel  \\\n",
              "0           Mechanical Engineering   It's been a while  Kinda know it   \n",
              "1             Economics, Statistics               Nope  Kinda know it   \n",
              "2                          Commerce               Nope  Kinda know it   \n",
              "3                          Commerce  It's been a while  Kinda know it   \n",
              "4            Math, Computer Science               Nope        Love it   \n",
              "5                        Statistics               Nope  Kinda know it   \n",
              "6               Physics, Statistics               Nope  Kinda know it   \n",
              "7              Computer Engineering               Nope  Kinda know it   \n",
              "8               Commerce, Economics  It's been a while  Kinda know it   \n",
              "9                  Computer Science               Nope  Kinda know it   \n",
              "10                               CS  It's been a while  Kinda know it   \n",
              "11              Systems Engineering                Yep  Kinda know it   \n",
              "12                               CS               Nope  Kinda know it   \n",
              "13                        Economics                Yep        Hate it   \n",
              "14                        Economics               Nope  Kinda know it   \n",
              "15  Economics, Statistics, Commerce                Yep  Kinda know it   \n",
              "16      Computer Science, Economics               Nope        Love it   \n",
              "17            Economics, Statistics  It's been a while  Kinda know it   \n",
              "\n",
              "              r_feel          sql_feel          sas_feel other_languages_feel  \\\n",
              "0   Never touched it  Never touched it  Never touched it        Kinda know it   \n",
              "1      Kinda know it  Never touched it  Never touched it     Never touched it   \n",
              "2      Kinda know it  Never touched it  Never touched it        Kinda know it   \n",
              "3   Never touched it  Never touched it  Never touched it        Kinda know it   \n",
              "4   Never touched it  Never touched it  Never touched it              Love it   \n",
              "5   Never touched it  Never touched it  Never touched it     Never touched it   \n",
              "6   Never touched it  Never touched it  Never touched it        Kinda know it   \n",
              "7   Never touched it  Never touched it  Never touched it        Kinda know it   \n",
              "8   Never touched it  Never touched it  Never touched it     Never touched it   \n",
              "9      Kinda know it  Never touched it  Never touched it        Kinda know it   \n",
              "10  Never touched it     Kinda know it  Never touched it        Kinda know it   \n",
              "11     Kinda know it     Kinda know it  Never touched it     Never touched it   \n",
              "12  Never touched it     Kinda know it  Never touched it              Love it   \n",
              "13  Never touched it  Never touched it  Never touched it     Never touched it   \n",
              "14     Kinda know it  Never touched it     Kinda know it        Kinda know it   \n",
              "15  Never touched it  Never touched it  Never touched it     Never touched it   \n",
              "16     Kinda know it  Never touched it     Kinda know it        Kinda know it   \n",
              "17  Never touched it  Never touched it  Never touched it     Never touched it   \n",
              "\n",
              "          stats_feel                                        ds_interest  \\\n",
              "0      Kinda know it                                               cars   \n",
              "1            Love it                               second hand shopping   \n",
              "2      Kinda know it                                      Social impact   \n",
              "3      Kinda know it  the environment, finding solutions to complex ...   \n",
              "4      Kinda know it                         Theoretical Math&Algorithm   \n",
              "5      Kinda know it                                  finance/investing   \n",
              "6            Love it          Astronomy, Statistics, Science in general   \n",
              "7      Kinda know it           Experiential Learning, Good Spreadsheets   \n",
              "8      Kinda know it                                           Business   \n",
              "9      Kinda know it                                    Arts and movies   \n",
              "10  Never touched it                                                 CS   \n",
              "11     Kinda know it           Management Science / Operations Research   \n",
              "12     Kinda know it                       Startups, tech, philanthropy   \n",
              "13     Kinda know it                                                NaN   \n",
              "14     Kinda know it           Women's rights, the environment, fashion   \n",
              "15           Love it           Using tech to address the world's issues   \n",
              "16           Love it                                learning new things   \n",
              "17     Kinda know it                      My friends and family and UVa   \n",
              "\n",
              "                                              hobbies      first  \\\n",
              "0                                               piano   Victoria   \n",
              "1                                   crocheting, piano       Trey   \n",
              "2                        Skiing, Video games, cooking       Joon   \n",
              "3                        basketball, surfing, cooking      James   \n",
              "4                            Basketball, Flute, Anime      Liran   \n",
              "5                   listening to music and  investing   REDACTED   \n",
              "6   Reading, listening to music, dancing, cooking,...     Olivia   \n",
              "7                                  Video Games, Anime     Daniel   \n",
              "8            Exercise, play basketball, watch netflix   REDACTED   \n",
              "9                                   Painting, reading  Harshita    \n",
              "10                                    Watching Movies   Wilachat   \n",
              "11                       Hiking, travelling, lacrosse    Charles   \n",
              "12  running, tennis, photography, brazilian jiu jitsu     Victor   \n",
              "13               lax, netflix, trying new food places    Ashita    \n",
              "14                       Playing soccer, cooking, art      Noele   \n",
              "15            Reading, basketball, lacrosse, swimming   Benjamin   \n",
              "16                                            Writing   REDACTED   \n",
              "17      Basketball, running, hanging out with friends     Robert   \n",
              "\n",
              "            last    nickname  \n",
              "0     Vettoretti       Vicky  \n",
              "1        Pallace      Ishaan  \n",
              "2           Park      Ishaan  \n",
              "3          Cowen       Harry  \n",
              "4             Li  Stephen Li  \n",
              "5       REDACTED    REDACTED  \n",
              "6         Mostow      Ishaan  \n",
              "7            Xue      Ishaan  \n",
              "8       REDACTED    REDACTED  \n",
              "9   Tirumalapudi      Ishaan  \n",
              "10      Weesakul        Waan  \n",
              "11     Warburton      Andrew  \n",
              "12           Luo      Ishaan  \n",
              "13          Sahu         Ash  \n",
              "14       Galindo      Ishaan  \n",
              "15           Kim         Ben  \n",
              "16      REDACTED    REDACTED  \n",
              "17    Carrington      Ishaan  "
            ]
          },
          "metadata": {},
          "execution_count": 28
        }
      ],
      "metadata": {
        "id": "ILRjhsI9RdP7",
        "outputId": "bd46e707-f8d1-4f04-9421-604b08073831"
      }
    },
    {
      "cell_type": "markdown",
      "source": [
        "Let's see how many people are CS majors. Unfortunately, people wrote in both CS and Computer Science. Check out the pandas documentation to see how you can check for both in the same line:\n",
        "\n",
        "https://pandas.pydata.org/pandas-docs/stable/reference/api/pandas.Series.str.contains.html\n"
      ],
      "metadata": {
        "id": "GS7jI59kqWt_"
      }
    },
    {
      "cell_type": "code",
      "execution_count": null,
      "source": [
        "# Find out how students many are CS majors\n",
        "df.major.str.contains('CS|Computer Science').value_counts()"
      ],
      "outputs": [
        {
          "output_type": "execute_result",
          "data": {
            "text/plain": [
              "False    13\n",
              "True      5\n",
              "Name: major, dtype: int64"
            ]
          },
          "metadata": {},
          "execution_count": 30
        }
      ],
      "metadata": {
        "id": "UXoFSw-yQt7-",
        "outputId": "d98ff16a-0394-45eb-a8ac-3cad0f220bcd"
      }
    },
    {
      "cell_type": "markdown",
      "source": [
        "It looks like a lot of people are doing 2 majors! Find out exactly how many students are double majoring"
      ],
      "metadata": {
        "id": "t931buZEqxJM"
      }
    },
    {
      "cell_type": "code",
      "execution_count": null,
      "source": [
        "# Find out how many people are doing more than one major\n",
        "df.major.str.split(', ').apply(lambda x: len(x) > 1).sum()"
      ],
      "outputs": [
        {
          "output_type": "execute_result",
          "data": {
            "text/plain": [
              "7"
            ]
          },
          "metadata": {},
          "execution_count": 31
        }
      ],
      "metadata": {
        "id": "kZHUSrCyRK1O",
        "outputId": "9afdc2fa-aae3-4e58-dde2-563b9b853e72"
      }
    },
    {
      "cell_type": "markdown",
      "source": [
        "Pandas has a super cool object called datetime objects. Let's experiment with them a bit. First convert the timestamp column to datetime objects"
      ],
      "metadata": {
        "id": "IgK67qYMq5s0"
      }
    },
    {
      "cell_type": "code",
      "execution_count": null,
      "source": [
        "# Convert the timestamps to datetime objects\n",
        "df.timestamp = pd.to_datetime(df.timestamp)"
      ],
      "outputs": [],
      "metadata": {
        "id": "pgtmBtkqS0Lm"
      }
    },
    {
      "cell_type": "markdown",
      "source": [
        "Take a look at the features of the datetime objects. Use the day in the object to find out how many people who submitted on Sept. 12th."
      ],
      "metadata": {
        "id": "nO_PJFZ4rCIx"
      }
    },
    {
      "cell_type": "code",
      "execution_count": null,
      "source": [
        "# Find out how many people submitted this form on 09/12\n",
        "df[df.timestamp.dt.day == 12].shape[0]"
      ],
      "outputs": [
        {
          "output_type": "execute_result",
          "data": {
            "text/plain": [
              "14"
            ]
          },
          "metadata": {},
          "execution_count": 33
        }
      ],
      "metadata": {
        "id": "HHb37QHYUSCT",
        "outputId": "e3d654e3-8e24-45e7-8455-747dff2b5c94"
      }
    },
    {
      "cell_type": "markdown",
      "source": [
        "Now try figuring out how many people submitted the form just after the due date of Sept. 12th 5:00 PM [totally okay if this was you :P]\n"
      ],
      "metadata": {
        "id": "wAD5hRhlrSSl"
      }
    },
    {
      "cell_type": "code",
      "execution_count": null,
      "source": [
        "# Find out how many people submitted past the due date\n",
        "df[df.timestamp > pd.Timestamp(\"09/12/21 17:00\")].shape[0]"
      ],
      "outputs": [
        {
          "output_type": "execute_result",
          "data": {
            "text/plain": [
              "6"
            ]
          },
          "metadata": {},
          "execution_count": 39
        }
      ],
      "metadata": {
        "id": "Oxj2opxTUTYy",
        "outputId": "c73af0ab-8649-4510-b220-1cb5d962c25f"
      }
    }
  ]
}