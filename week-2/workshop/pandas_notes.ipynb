{
  "cells": [
    {
      "cell_type": "markdown",
      "metadata": {
        "id": "p9RC9pBA1Mm2"
      },
      "source": [
        "##  A Quick Review from W1"
      ]
    },
    {
      "cell_type": "markdown",
      "metadata": {
        "id": "K7Tnbs-9hwsv"
      },
      "source": [
        "Before pulling any data, we've gotta import all the packages we need"
      ]
    },
    {
      "cell_type": "code",
      "execution_count": null,
      "metadata": {
        "id": "AX9A5eDRhraN",
        "tags": [
          "workshop"
        ]
      },
      "outputs": [],
      "source": [
        "import pandas as pd\n",
        "import numpy as np\n",
        "\n",
        "pd.set_option(\"display.max_rows\", 6)"
      ]
    },
    {
      "cell_type": "markdown",
      "metadata": {
        "id": "EBICO5ejh2ul"
      },
      "source": [
        "Now we can read in the data from a link OR from a file in the same directory\n",
        "\n",
        "URL: `https://raw.githubusercontent.com/ishaandey/node/master/week-2/workshop/imdb.csv`"
      ]
    },
    {
      "cell_type": "code",
      "execution_count": null,
      "metadata": {
        "id": "gG-ti6WYeOob",
        "tags": [
          "workshop"
        ]
      },
      "outputs": [],
      "source": [
        ""
      ]
    },
    {
      "cell_type": "markdown",
      "metadata": {
        "id": "ymvtDsVeiABB"
      },
      "source": [
        "Take a quick look at the data"
      ]
    },
    {
      "cell_type": "code",
      "execution_count": null,
      "metadata": {
        "id": "0WMFka4Nhoq-",
        "tags": [
          "workshop"
        ]
      },
      "outputs": [],
      "source": [
        ""
      ]
    },
    {
      "cell_type": "markdown",
      "metadata": {
        "id": "RZDEJHEniIh8",
        "tags": [
          "workshop"
        ]
      },
      "source": [
        "How many rows are there? Columns?"
      ]
    },
    {
      "cell_type": "code",
      "execution_count": null,
      "metadata": {
        "id": "gaJnsBHRiE4i",
        "tags": [
          "workshop"
        ]
      },
      "outputs": [],
      "source": [
        ""
      ]
    },
    {
      "cell_type": "markdown",
      "metadata": {
        "id": "5o68gv5dAne0"
      },
      "source": [
        "There's a lot of columns, could we get a full list? "
      ]
    },
    {
      "cell_type": "code",
      "execution_count": null,
      "metadata": {
        "tags": [
          "workshop"
        ],
        "id": "OUhYmY5DAne0"
      },
      "outputs": [],
      "source": [
        ""
      ]
    },
    {
      "cell_type": "markdown",
      "metadata": {
        "id": "UdlgWy6RAne0"
      },
      "source": [
        "# Pandas Foundations"
      ]
    },
    {
      "cell_type": "markdown",
      "metadata": {
        "id": "91iH74VhAne0"
      },
      "source": [
        "## Dataframe who?"
      ]
    },
    {
      "cell_type": "markdown",
      "metadata": {
        "id": "SU6NVK4WAne1"
      },
      "source": [
        "Think of dataframes as little \"spreadsheets\" that hold our data.\n",
        "<br>Each row represents an observation, and each column represents some feature about that data.\n",
        "\n",
        "<br> With little bits of code, we can modify what that spreadsheet looks like.\n",
        "<br> For example, our raw data `movies` can be transformed to show some metric about some feature for some subset of the data"
      ]
    },
    {
      "cell_type": "code",
      "execution_count": null,
      "metadata": {
        "id": "tr9tJc1nAne1"
      },
      "outputs": [],
      "source": [
        "# For example:\n",
        "movies[movies.country.isin(['USA','France','UK'])].groupby('country')[['gross', 'budget']].agg(['median','max'])"
      ]
    },
    {
      "cell_type": "markdown",
      "metadata": {
        "id": "CW-_Pz4oAne1"
      },
      "source": [
        "## Series vs. Dataframes "
      ]
    },
    {
      "cell_type": "markdown",
      "metadata": {
        "id": "KC75Yb1rAne1"
      },
      "source": [
        "We've been referring to *2 dimensional* tables using the `pd.DataFrame` object\n",
        "<br>An individual column (or row), is *1 dimensional*. We call this a `pd.Series` object"
      ]
    },
    {
      "cell_type": "code",
      "execution_count": null,
      "metadata": {
        "id": "qJEH2YTrAne1"
      },
      "outputs": [],
      "source": [
        ""
      ]
    },
    {
      "cell_type": "markdown",
      "metadata": {
        "id": "pXRVPaO7Ane1"
      },
      "source": [
        "We can access a series (always 1-dimensional) using either: `df.column` OR `df['column']`"
      ]
    },
    {
      "cell_type": "code",
      "execution_count": null,
      "metadata": {
        "id": "UOKjHEDbAne2"
      },
      "outputs": [],
      "source": [
        ""
      ]
    },
    {
      "cell_type": "code",
      "execution_count": null,
      "metadata": {
        "id": "AmcPT21kAne2"
      },
      "outputs": [],
      "source": [
        ""
      ]
    },
    {
      "cell_type": "markdown",
      "metadata": {
        "id": "VC3u4YSsAne2"
      },
      "source": [
        "To select a **row** as a series, we can use `df.iloc[]` and a specific row number (its index)"
      ]
    },
    {
      "cell_type": "code",
      "execution_count": null,
      "metadata": {
        "id": "ItyGF3WjAne2"
      },
      "outputs": [],
      "source": [
        ""
      ]
    },
    {
      "cell_type": "markdown",
      "metadata": {
        "id": "Vcn4aty3Ane2"
      },
      "source": [
        "## Subsetting Columns"
      ]
    },
    {
      "cell_type": "markdown",
      "metadata": {
        "id": "HHK4ILFIAne2"
      },
      "source": [
        "Subsetting and filtering is one of the most important, yet confusing topics when getting started.\n",
        "<br>As we go along, feel free to run the code part by part to see what's going on in each step. `type()` is also a great tool here"
      ]
    },
    {
      "cell_type": "markdown",
      "metadata": {
        "id": "DpKheg2NAne2"
      },
      "source": [
        "Lets take a look at a smaller set of columns, say the movie title, actors & director name"
      ]
    },
    {
      "cell_type": "code",
      "execution_count": null,
      "metadata": {
        "id": "VT-9ovCqAne2"
      },
      "outputs": [],
      "source": [
        "movies[['movie_title','actor_1_name','actor_2_name','actor_3_name','director_name']] # Note TWO square brackets"
      ]
    },
    {
      "cell_type": "markdown",
      "metadata": {
        "id": "OoTQx7o-Ane3"
      },
      "source": [
        "Side Note: Why did we use two square brackets? What we're doing is passing a `list` to the subset function.\n",
        "<br> Pandas `DataFrame` objects know that whenever we place `[]` after it, we're looking to do some sort of filtering operation"
      ]
    },
    {
      "cell_type": "code",
      "execution_count": null,
      "metadata": {
        "tags": [
          "workshop"
        ],
        "id": "gGDgcNBmAne3"
      },
      "outputs": [],
      "source": [
        "actor_cols = ['actor_1_name','actor_2_name','actor_3_name']\n",
        "movies[actor_cols]"
      ]
    },
    {
      "cell_type": "markdown",
      "metadata": {
        "id": "jR-7FBY1Ane3"
      },
      "source": [
        "Another quick point of confusion: Check out the difference between `df['column']` vs `df[['column']]` ( try it out below)"
      ]
    },
    {
      "cell_type": "code",
      "execution_count": null,
      "metadata": {
        "tags": [
          "workshop"
        ],
        "id": "ebFoaEHWAne3"
      },
      "outputs": [],
      "source": [
        "movies"
      ]
    },
    {
      "cell_type": "code",
      "execution_count": null,
      "metadata": {
        "tags": [
          "workshop"
        ],
        "id": "w1lcgZhmAne3"
      },
      "outputs": [],
      "source": [
        ""
      ]
    },
    {
      "cell_type": "markdown",
      "metadata": {
        "id": "N4zJS0vUAne3"
      },
      "source": [
        "The former creates a *series*, since the input is just one *string*. The latter creates a *dataframe*, since the input is a *list* of columns."
      ]
    },
    {
      "cell_type": "markdown",
      "metadata": {
        "id": "puxRXH3dAne4"
      },
      "source": [
        "## Filtering Rows With Conditions"
      ]
    },
    {
      "cell_type": "markdown",
      "metadata": {
        "id": "-_4veLtuAne4"
      },
      "source": [
        "Another common task is to filter rows based upon some criteria we have. We could:\n",
        "1. Compare floats\n",
        "2. Match strings\n",
        "3. Check against multiple elements"
      ]
    },
    {
      "cell_type": "code",
      "execution_count": null,
      "metadata": {
        "scrolled": true,
        "tags": [
          "workshop"
        ],
        "id": "lsE7IUFKAne5"
      },
      "outputs": [],
      "source": [
        ""
      ]
    },
    {
      "cell_type": "code",
      "execution_count": null,
      "metadata": {
        "scrolled": true,
        "tags": [
          "workshop"
        ],
        "id": "wGi8_FK9Ane5"
      },
      "outputs": [],
      "source": [
        ""
      ]
    },
    {
      "cell_type": "markdown",
      "metadata": {
        "id": "UICl_2aCAne5"
      },
      "source": [
        "What if we wanted to find movies that were either `G`, `PG`, or `PG-13`? \n",
        "We'd have to type out something pretty annoying like: \n",
        "```python\n",
        "movies[(movies.content_rating == 'G') | (movies.content_rating == 'PG') | (movies.content_rating == 'PG-13')]\n",
        "```\n",
        "\n",
        "<br>Instead, we'll use the `.isin()` operator to match against a group. Remember, `.isin()` accepts a `list` only"
      ]
    },
    {
      "cell_type": "code",
      "execution_count": null,
      "metadata": {
        "scrolled": true,
        "tags": [
          "workshop"
        ],
        "id": "SRU3NfSfAne5"
      },
      "outputs": [],
      "source": [
        ""
      ]
    },
    {
      "cell_type": "markdown",
      "metadata": {
        "id": "y4SzFCqlAne6"
      },
      "source": [
        "### Masking"
      ]
    },
    {
      "cell_type": "markdown",
      "metadata": {
        "id": "inC5SjzYAne6"
      },
      "source": [
        "What's going on under the hood? When we say something like this,\n",
        "```python \n",
        "movies.content_rating == 'G'\n",
        "```\n",
        "We're actually asking Pandas to check that **for each** row in the series, if the given statement is True or False.\n"
      ]
    },
    {
      "cell_type": "code",
      "execution_count": null,
      "metadata": {
        "scrolled": true,
        "tags": [
          "workshop"
        ],
        "id": "4JeJuNi9Ane6"
      },
      "outputs": [],
      "source": [
        ""
      ]
    },
    {
      "cell_type": "code",
      "execution_count": null,
      "metadata": {
        "scrolled": true,
        "tags": [
          "workshop"
        ],
        "id": "gTBs0bEqAne6"
      },
      "outputs": [],
      "source": [
        ""
      ]
    },
    {
      "cell_type": "markdown",
      "metadata": {
        "id": "NF18-bj3Ane7"
      },
      "source": [
        "## Basic functions"
      ]
    },
    {
      "cell_type": "markdown",
      "metadata": {
        "id": "H8UFnTHAAne7"
      },
      "source": [
        "There's a couple super helpful functions that help us work with our data.\n",
        "\n",
        "For sorting, we can use `.sort_values(by= )`, and pass in either a single string, or multiple strings in a list.\n",
        "<br>To flip the default order, change the `ascending= ` parameter to `False`"
      ]
    },
    {
      "cell_type": "code",
      "execution_count": null,
      "metadata": {
        "id": "Q3MzkAdYAne7"
      },
      "outputs": [],
      "source": [
        ""
      ]
    },
    {
      "cell_type": "markdown",
      "metadata": {
        "id": "MlajuCu-Ane7"
      },
      "source": [
        "We could also use the `.value_counts()` function to could how many observations there are for each category.\n",
        "<br>If we wanted relative frequencies (i.e. proportions) instead of absolute counts, we could change the `normalize=` parameter to `True`"
      ]
    },
    {
      "cell_type": "code",
      "execution_count": null,
      "metadata": {
        "id": "WrKO1-KrAne7"
      },
      "outputs": [],
      "source": [
        ""
      ]
    },
    {
      "cell_type": "markdown",
      "metadata": {
        "id": "g3gR4fZmAne7"
      },
      "source": [
        "Finally, we can take basic summary measures, like the `.mean()` or `.sum()` of a column."
      ]
    },
    {
      "cell_type": "code",
      "execution_count": null,
      "metadata": {
        "id": "eQC1TN-GAne7"
      },
      "outputs": [],
      "source": [
        ""
      ]
    },
    {
      "cell_type": "markdown",
      "metadata": {
        "id": "_rQ5H3kuAne8"
      },
      "source": [
        "## Chaining"
      ]
    },
    {
      "cell_type": "markdown",
      "metadata": {
        "id": "bf042_4xAne8"
      },
      "source": [
        "Chaining helps make our code more concise and readable.\n",
        "\n",
        "For example, if we wanted to combine some subsets with functions:"
      ]
    },
    {
      "cell_type": "code",
      "execution_count": null,
      "metadata": {
        "id": "eF4XopzBAne8"
      },
      "outputs": [],
      "source": [
        "df1 = movies[movies.imdb_score > 8.5]\n",
        "df2 = df1[df1.content_rating == 'PG']\n",
        "df3 = df2.sort_values(by='duration',ascending=False)\n",
        "df3.head()"
      ]
    },
    {
      "cell_type": "markdown",
      "metadata": {
        "id": "GCLBN150Ane8"
      },
      "source": [
        "We could instead write the above as:"
      ]
    },
    {
      "cell_type": "code",
      "execution_count": null,
      "metadata": {
        "tags": [
          "workshop"
        ],
        "id": "CxvXuD2EAne8"
      },
      "outputs": [],
      "source": [
        ""
      ]
    },
    {
      "cell_type": "markdown",
      "metadata": {
        "id": "zp535zprAne8"
      },
      "source": [
        "This works because each part of our code `returns` a dataframe, so we can keep tagging along functions instead of saving each step into a temporary variable."
      ]
    },
    {
      "cell_type": "markdown",
      "metadata": {
        "id": "82FCFSVOAne8"
      },
      "source": [
        "**Try it out:** In one line, see if you can find the value counts of `content_rating` for movies with a gross revenue (`gross`) over `200000000` ($ 200 million)"
      ]
    },
    {
      "cell_type": "code",
      "execution_count": null,
      "metadata": {
        "tags": [
          "practice"
        ],
        "id": "mr9uDqB8Ane9"
      },
      "outputs": [],
      "source": [
        ""
      ]
    },
    {
      "cell_type": "markdown",
      "metadata": {
        "id": "Gp7oO3bzAne9"
      },
      "source": [
        "# Practice w/ UFOs"
      ]
    },
    {
      "cell_type": "markdown",
      "metadata": {
        "id": "hajNevQ6Ane9"
      },
      "source": [
        "Data sampled from the National UFO Reporting Center (NUFORC)\n",
        "<br>With your breakout groups, open up `ufo.csv` and answer the following questions:\n",
        "\n",
        "1. Among the West Coast states (California, Oregon, and Washington), how long (on average) did the fireballs encounters last?\n",
        "2. Which state saw the most encounters that lasted between 5 minutes to 1 hour?\n",
        "3. There was one particularly interesting encounter on `2/11/2004 00:00` in West Palm Beach, Florida. What happened?\n",
        "\n",
        "<br>Hint: Break down each question into parts, and chain them back together. There's no particular 'right' way\n",
        "<br>To refer to the `shape` column, use `ufo['shape']` instead of `ufo.shape`, since the latter is a reserved attribute\n",
        "\n",
        "<br> URL = `https://raw.githubusercontent.com/ishaandey/node/master/week-2/workshop/ufo.csv`"
      ]
    },
    {
      "cell_type": "code",
      "execution_count": null,
      "metadata": {
        "tags": [
          "practice"
        ],
        "id": "9VoVTV5kAne9"
      },
      "outputs": [],
      "source": [
        "# Read data"
      ]
    },
    {
      "cell_type": "code",
      "execution_count": null,
      "metadata": {
        "tags": [
          "practice"
        ],
        "id": "VQ2UlZUEAne9"
      },
      "outputs": [],
      "source": [
        "# 1"
      ]
    },
    {
      "cell_type": "code",
      "execution_count": null,
      "metadata": {
        "tags": [
          "practice"
        ],
        "id": "EXPvkBZsAne9"
      },
      "outputs": [],
      "source": [
        "# 2"
      ]
    },
    {
      "cell_type": "code",
      "execution_count": null,
      "metadata": {
        "tags": [
          "practice"
        ],
        "id": "ZgS1NnkwAne9"
      },
      "outputs": [],
      "source": [
        "# 3"
      ]
    },
    {
      "cell_type": "markdown",
      "metadata": {
        "id": "jdi7zUoXy1p-"
      },
      "source": [
        "# Groupby Objects"
      ]
    },
    {
      "cell_type": "markdown",
      "metadata": {
        "id": "MDq1cI5Wd_w3"
      },
      "source": [
        "From before, we used `value_counts()` to get the number of movies per each content rating"
      ]
    },
    {
      "cell_type": "code",
      "execution_count": null,
      "metadata": {
        "id": "nK7wHNPoqh5Q",
        "tags": [
          "workshop"
        ]
      },
      "outputs": [],
      "source": [
        ""
      ]
    },
    {
      "cell_type": "markdown",
      "metadata": {
        "id": "OPu5kvFTeINX"
      },
      "source": [
        "This is a good summary statistic to examine the distribution of our dataset. But...\n",
        "\n",
        "<br>What if we want to know how movie performance differs by rating?\n",
        "<br>We need to apply some function (i.e. take the mean of revenue) **per each** content rating"
      ]
    },
    {
      "cell_type": "code",
      "execution_count": null,
      "metadata": {
        "id": "nFfz0cNvqnp_"
      },
      "outputs": [],
      "source": [
        ""
      ]
    },
    {
      "cell_type": "markdown",
      "metadata": {
        "id": "iLYEMytqeku0"
      },
      "source": [
        "This creates a special **GroupBy object**. \n",
        "\n",
        "<br>For now, let's think of it like a *collection* of dataframes, seperated by each unique value from content rating (One group for `R`, `PG-13`, etc).\n",
        "<br>We can't easily render what the entire GroupBy object looks like, but we can pull out a particular group"
      ]
    },
    {
      "cell_type": "code",
      "execution_count": null,
      "metadata": {
        "id": "j19ngOVYAne-"
      },
      "outputs": [],
      "source": [
        ""
      ]
    },
    {
      "cell_type": "code",
      "execution_count": null,
      "metadata": {
        "id": "7gh1tx2GAne-"
      },
      "outputs": [],
      "source": [
        "print(type(movies_byRating.get_group('PG')))\n",
        "movies_byRating.get_group('PG').head()"
      ]
    },
    {
      "cell_type": "markdown",
      "metadata": {
        "id": "x4qi6rnoAne-"
      },
      "source": [
        "When we apply **aggregation** functions to a `GroupBy` object, we get back averages for each column in the dataframe, **broken down** by content rating"
      ]
    },
    {
      "cell_type": "code",
      "execution_count": null,
      "metadata": {
        "id": "_QNmOmInfaA3"
      },
      "outputs": [],
      "source": [
        ""
      ]
    },
    {
      "cell_type": "markdown",
      "metadata": {
        "id": "jWSutjcrAne-"
      },
      "source": [
        "If we were just to apply `.mean()` to the entire dataframe, we'd only get back one row with summaries for the entire dataset"
      ]
    },
    {
      "cell_type": "code",
      "execution_count": null,
      "metadata": {
        "id": "xiikovICAne-"
      },
      "outputs": [],
      "source": [
        "pd.DataFrame(movies.mean(), columns=['Total']).T"
      ]
    },
    {
      "cell_type": "markdown",
      "metadata": {
        "id": "N5Y92AdaAne-"
      },
      "source": [
        "We've got other ways to aggregate the data too.\n",
        "\n",
        "Here, we're showing the mean, max, and min values of `imdb_score` by passing in multiple strings in a list to `.agg()`"
      ]
    },
    {
      "cell_type": "code",
      "execution_count": null,
      "metadata": {
        "id": "SWm9OtzssqRX",
        "tags": [
          "workshop"
        ]
      },
      "outputs": [],
      "source": [
        ""
      ]
    },
    {
      "cell_type": "markdown",
      "metadata": {
        "id": "x5uIy1h-gfYU"
      },
      "source": [
        "The results of these groupby operations are all dataframes, check it out with the `type( )` operator\n",
        "This means we can start chaining together dataframe functions, for example `sort_values()` "
      ]
    },
    {
      "cell_type": "markdown",
      "metadata": {
        "id": "JUo7dpaSAne-"
      },
      "source": [
        "**Try it out:** Break down median revenues by country, then sort them highest to lowest"
      ]
    },
    {
      "cell_type": "code",
      "execution_count": null,
      "metadata": {
        "id": "zHaQ4MJF6yh_",
        "scrolled": true,
        "tags": [
          "practice"
        ]
      },
      "outputs": [],
      "source": [
        "# 1"
      ]
    },
    {
      "cell_type": "markdown",
      "metadata": {
        "id": "myIGfdHaAne_"
      },
      "source": [
        "### Multilevel GroupBy"
      ]
    },
    {
      "cell_type": "markdown",
      "metadata": {
        "id": "jQwdYU36CHmD"
      },
      "source": [
        "We can also group on multiple columns to get *all unique combinations* of those columns. \n",
        "\n",
        "<br> For example, we can see if the relationship between `content_rating` and `imdb_rating` differs across countries by using both as keys"
      ]
    },
    {
      "cell_type": "code",
      "execution_count": null,
      "metadata": {
        "id": "F5ofScfDCG14"
      },
      "outputs": [],
      "source": [
        ""
      ]
    },
    {
      "cell_type": "code",
      "execution_count": null,
      "metadata": {
        "id": "EH9wMlMICtSv",
        "tags": [
          "workshop"
        ]
      },
      "outputs": [],
      "source": [
        ""
      ]
    },
    {
      "cell_type": "markdown",
      "metadata": {
        "id": "8X1APi0uAne_"
      },
      "source": [
        "# Summary"
      ]
    },
    {
      "cell_type": "markdown",
      "metadata": {
        "id": "8kCADBgCAne_"
      },
      "source": [
        "That's it for now!\n",
        "\n",
        "<br>Today you learned how to:\n",
        "- **Import** a dataset as a pandas object\n",
        "- Check out quick features, like `.head()`, `.shape`, and `.value_counts()`\n",
        "- The distinction between `pd.Series` and `pd.DataFrame` objects\n",
        "- **Filter** rows based on some condition\n",
        "- **Subset** columns to those we want"
      ]
    },
    {
      "cell_type": "markdown",
      "metadata": {
        "id": "NnJ6UorLAne_"
      },
      "source": [
        "We also used special `GroupBy` objects to get specific drill-down insights by:\n",
        "<br>(1) first breaking out, or **grouping** a dataset based on some category, then\n",
        "<br>(2) **aggregating** information from each observation in that category\n",
        "\n",
        "<br> In practice, if we wanted to get a mean score, broken down by every value in a given column, we would do:\n",
        "<br>`df.groupby(by='group column').agg('mean').score_column`"
      ]
    }
  ],
  "metadata": {
    "colab": {
      "name": "NBW2_pandas_key.ipynb",
      "provenance": []
    },
    "kernelspec": {
      "display_name": "Python 3",
      "language": "python",
      "name": "python3"
    },
    "language_info": {
      "codemirror_mode": {
        "name": "ipython",
        "version": 3
      },
      "file_extension": ".py",
      "mimetype": "text/x-python",
      "name": "python",
      "nbconvert_exporter": "python",
      "pygments_lexer": "ipython3",
      "version": "3.7.7"
    }
  },
  "nbformat": 4,
  "nbformat_minor": 0
}