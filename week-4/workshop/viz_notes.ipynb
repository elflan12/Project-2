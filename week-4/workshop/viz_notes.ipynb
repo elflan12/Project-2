{
  "cells": [
    {
      "cell_type": "markdown",
      "metadata": {
        "id": "326jvcsdA1oN"
      },
      "source": [
        "# Data Visualization"
      ]
    },
    {
      "cell_type": "code",
      "execution_count": null,
      "metadata": {
        "id": "e1g4IHBCA1oP"
      },
      "outputs": [],
      "source": [
        "import pandas as pd\n",
        "import numpy as np"
      ]
    },
    {
      "cell_type": "code",
      "execution_count": null,
      "metadata": {
        "id": "P3HECrBhA1oQ"
      },
      "outputs": [],
      "source": [
        "airbnb = pd.read_csv('https://raw.githubusercontent.com/ishaandey/node/master/week-4/workshop/airbnb.csv') \n",
        "# For Seattle only"
      ]
    },
    {
      "cell_type": "markdown",
      "metadata": {
        "id": "8gGtgCi8A1oQ"
      },
      "source": [
        "As with all new datasets, let's start by familiarizing ourselves with the dataset:\n",
        "\n",
        "**Try it!** Print the shape, columns, and show a sample observation"
      ]
    },
    {
      "cell_type": "markdown",
      "metadata": {
        "tags": [],
        "id": "_0J24lsYA1oQ"
      },
      "source": [
        "## Scatter, Bars, and Histograms: The Basics"
      ]
    },
    {
      "cell_type": "code",
      "execution_count": null,
      "metadata": {
        "id": "dizBybQLA1oQ"
      },
      "outputs": [],
      "source": [
        ""
      ]
    },
    {
      "cell_type": "markdown",
      "metadata": {
        "id": "5a5IFCoQA1oR"
      },
      "source": [
        "Some imports: Note that we'll rename `plotly express` as `px`.\n",
        "\n",
        "`plotly express` is a \"wrapper\" for the base `plotly` package. What that means is we can use incredibly easy and readable functions, and plotly express will do the hard work of convering that input into formats that the software can understand.\n",
        "\n",
        "Quick aside: If you're a web developer and love JS, or an academic and use R, the same Plotly library is available to use in both languages. "
      ]
    },
    {
      "cell_type": "code",
      "execution_count": null,
      "metadata": {
        "id": "pW5_va9tA1oR"
      },
      "outputs": [],
      "source": [
        "import plotly\n",
        "import plotly.express as px"
      ]
    },
    {
      "cell_type": "markdown",
      "metadata": {
        "id": "more1kgnA1oR"
      },
      "source": [
        "Our overarching goal: **What are the average prices in each neighborhood?**"
      ]
    },
    {
      "cell_type": "markdown",
      "metadata": {
        "id": "OzAI8HGJA1oR"
      },
      "source": [
        "In order to get a handle on the data, let's use a histogram to show single distributions. How would you know what function to use?  *Google*"
      ]
    },
    {
      "cell_type": "code",
      "execution_count": null,
      "metadata": {
        "id": "3Ra4aYEkA1oR"
      },
      "outputs": [],
      "source": [
        ""
      ]
    },
    {
      "cell_type": "markdown",
      "metadata": {
        "id": "CmJ09c__A1oR"
      },
      "source": [
        "There's a couple of outliers here screwing with the distribution. Any idea on how to fix it?"
      ]
    },
    {
      "cell_type": "markdown",
      "metadata": {
        "id": "93OOWj_hA1oS"
      },
      "source": [
        "It works, but doesn't really tell us too much. Let's modify the plot by adding some parameters.\n",
        "\n",
        "With *any* python package, we can pull up some quick documentation from Jupyter itself using `?`\n",
        "<br>**Try it!** What parameters does `px.histogram` accept?"
      ]
    },
    {
      "cell_type": "code",
      "execution_count": null,
      "metadata": {
        "id": "472DJkm1A1oS"
      },
      "outputs": [],
      "source": [
        ""
      ]
    },
    {
      "cell_type": "code",
      "execution_count": null,
      "metadata": {
        "id": "KVXbSe_gA1oS"
      },
      "outputs": [],
      "source": [
        ""
      ]
    },
    {
      "cell_type": "markdown",
      "metadata": {
        "id": "yYu5Le9vA1oS"
      },
      "source": [
        "How does this differ by the type of room? Use 'room_type' to break out each room type as its own distribution"
      ]
    },
    {
      "cell_type": "code",
      "execution_count": null,
      "metadata": {
        "id": "RJm-xUfJA1oS"
      },
      "outputs": [],
      "source": [
        ""
      ]
    },
    {
      "cell_type": "markdown",
      "metadata": {
        "id": "h3v5VfzsA1oS"
      },
      "source": [
        "The current conformation stacks the values on each other, change the bar mode to lay the distrubtions over each other"
      ]
    },
    {
      "cell_type": "code",
      "execution_count": null,
      "metadata": {
        "id": "voVHTc2gA1oS"
      },
      "outputs": [],
      "source": [
        ""
      ]
    },
    {
      "cell_type": "markdown",
      "metadata": {
        "tags": [],
        "id": "ns6V0ysDA1oT"
      },
      "source": [
        "### Quick aesthetics"
      ]
    },
    {
      "cell_type": "markdown",
      "metadata": {
        "id": "_IFcCobYA1oT"
      },
      "source": [
        "Plotly is interactive! Play around with the legends and plot area. <br>Double click on the legend icon on the right, and plotly will automatically update the figure to select those points only."
      ]
    },
    {
      "cell_type": "markdown",
      "metadata": {
        "id": "7ymAWlcmA1oT"
      },
      "source": [
        "Let's use some other colors. There are two main types: **discrete sequences** and **continuous scales**. As you can imagine, if the data you're interested in has distinct groups (i.e. neighborhoods), you'd be interested in using `color_discrete_sequence=`. If the latter, use `color_continuous_sequence=`. \n",
        "\n",
        "How do you know what options are available? Plotly has several default options for each type.\n",
        "You can check them out using `px.colors.qualitative.swatches()` for discrete options or `px.colors.sequential.swatches()` for continuous scales.\n",
        "\n"
      ]
    },
    {
      "cell_type": "code",
      "execution_count": null,
      "metadata": {
        "id": "fBuAlThJA1oT"
      },
      "outputs": [],
      "source": [
        ""
      ]
    },
    {
      "cell_type": "markdown",
      "metadata": {
        "id": "J2fSRPSsA1oT"
      },
      "source": [
        "As a reminder, the `color=` parameter only breaks the graph into different colors, based upon the *attribute* (column) given. To actually change the values, we need to specify a set of colors to another parameter.  "
      ]
    },
    {
      "cell_type": "code",
      "execution_count": null,
      "metadata": {
        "id": "tMCk3h43A1oU"
      },
      "outputs": [],
      "source": [
        ""
      ]
    },
    {
      "cell_type": "markdown",
      "metadata": {
        "id": "dTbVymwtA1oU"
      },
      "source": [
        "Finally, we can add labels to our charts as dictionaries, in the form of `labels={'column_name':'Column Name', 'another_name':'Another Name'}`"
      ]
    },
    {
      "cell_type": "code",
      "execution_count": null,
      "metadata": {
        "id": "aIFf1SrMA1oU"
      },
      "outputs": [],
      "source": [
        ""
      ]
    },
    {
      "cell_type": "markdown",
      "metadata": {
        "id": "WZWJkBwLA1oU"
      },
      "source": [
        "Say we want to adjust this plot to show *relative* values. That is, we want to better highlight the price distributions of hotel rooms, even though they occur a lot less than enitre homes/apts."
      ]
    },
    {
      "cell_type": "code",
      "execution_count": null,
      "metadata": {
        "id": "81gcHGZ5A1oU"
      },
      "outputs": [],
      "source": [
        ""
      ]
    },
    {
      "cell_type": "markdown",
      "metadata": {
        "id": "gQlBGDJCA1oU"
      },
      "source": [
        "### Using GroupBys for Aggregation"
      ]
    },
    {
      "cell_type": "markdown",
      "metadata": {
        "id": "_9vg5stRA1oV"
      },
      "source": [
        "Oftentimes we'll want to create visualizations at some aggregate level. \n",
        "\n",
        "For example, let's say we want to show neighborhoods with a high median rental price. \n",
        "<br>Our data is at a *per-listing* level, meaning that each individual row is its own listing, with its price. \n",
        "<br>To get data at the *per-neighborhood* level, we've got to *roll up* all the listing prices per neighborhood, in other words, group the data by neighborhood, then find the median for all those listings."
      ]
    },
    {
      "cell_type": "code",
      "execution_count": null,
      "metadata": {
        "id": "xm8441KuA1oV"
      },
      "outputs": [],
      "source": [
        ""
      ]
    },
    {
      "cell_type": "code",
      "execution_count": null,
      "metadata": {
        "id": "afgxpS60A1oV"
      },
      "outputs": [],
      "source": [
        ""
      ]
    },
    {
      "cell_type": "markdown",
      "metadata": {
        "id": "4vBAye3-A1oV"
      },
      "source": [
        "In breakout groups, see if you can **build a bar plot** to show median prices in each neighbourhood group, and sort them in a meaningful way\n",
        "\n",
        "Make it complete! Label axes, hover text, color, the whole nine yards."
      ]
    },
    {
      "cell_type": "code",
      "execution_count": null,
      "metadata": {
        "id": "mktV-62BA1oV"
      },
      "outputs": [],
      "source": [
        ""
      ]
    },
    {
      "cell_type": "markdown",
      "metadata": {
        "id": "J3okHEKnA1oW"
      },
      "source": [
        "Say my friend and I have a budget of of $90 per night. Show which regions are ideal for this, but how you wanna do that is entirely up to you: Draw a **horizontal line**, color the bars by color the ideal regions differently, as long as it communicates the which neighborhoods are generally cheaper.\n",
        "\n",
        "\n",
        "**Hint**: To draw a line, use `fig.add_hline()` with corresponding parameters\n",
        "<br>**Hint**: To color bars according to some condition, first **create a new column** that describes if the value is below budget."
      ]
    },
    {
      "cell_type": "code",
      "execution_count": null,
      "metadata": {
        "id": "J5xXcBl7A1oW"
      },
      "outputs": [],
      "source": [
        ""
      ]
    },
    {
      "cell_type": "markdown",
      "metadata": {
        "id": "hevUIv6PA1oW"
      },
      "source": [
        "## Time Trends"
      ]
    },
    {
      "cell_type": "markdown",
      "metadata": {
        "id": "iNB4pCpXA1oW"
      },
      "source": [
        "Tabular data comes in two formats: *wide* or *long*.\n",
        "\n",
        "Wide form puts the core observational unit as it's own row, while long-form data shows each possible data combination *as its own row*. In practice, wide data is more human-readable, while long form data tends to lend itself better for visualization tasks. \n",
        "\n",
        "Pandas gives us a set of functions to switch back and forth between the two formats, as needed."
      ]
    },
    {
      "cell_type": "markdown",
      "metadata": {
        "id": "HBqaWiY0A1oW"
      },
      "source": [
        "Let's use the Zillow dataset to explore this further. Our overarching goal is to **show price trends in Seattle neighborhoods**."
      ]
    },
    {
      "cell_type": "code",
      "execution_count": null,
      "metadata": {
        "id": "nmrwmidAA1oX"
      },
      "outputs": [],
      "source": [
        "zillow = pd.read_csv('https://raw.githubusercontent.com/ishaandey/node/master/week-4/workshop/zillow.csv') \n",
        "# For Seattle only"
      ]
    },
    {
      "cell_type": "code",
      "execution_count": null,
      "metadata": {
        "id": "mnjzF6BcA1oX"
      },
      "outputs": [],
      "source": [
        ""
      ]
    },
    {
      "cell_type": "markdown",
      "metadata": {
        "id": "GTAiR6UUA1oX"
      },
      "source": [
        "What regions are covered in the zillow data set? "
      ]
    },
    {
      "cell_type": "code",
      "execution_count": null,
      "metadata": {
        "id": "3VhBx77aA1oX"
      },
      "outputs": [],
      "source": [
        ""
      ]
    },
    {
      "cell_type": "markdown",
      "metadata": {
        "id": "8dejVFM2A1oY"
      },
      "source": [
        "Let's subset our data to just Seattle"
      ]
    },
    {
      "cell_type": "code",
      "execution_count": null,
      "metadata": {
        "id": "K5mA4z1FA1oY"
      },
      "outputs": [],
      "source": [
        ""
      ]
    },
    {
      "cell_type": "markdown",
      "metadata": {
        "tags": [],
        "id": "U3c_epcRA1oY"
      },
      "source": [
        "### Moving from wide to long form"
      ]
    },
    {
      "cell_type": "code",
      "execution_count": null,
      "metadata": {
        "id": "hq2hXDWlA1oY"
      },
      "outputs": [],
      "source": [
        ""
      ]
    },
    {
      "cell_type": "markdown",
      "metadata": {
        "id": "IiN9Q6vxA1oY"
      },
      "source": [
        "A quick bit of cleaning is necessary here. Right now, each row in zillow represents a unique region, and the Zillow Rental Index (ZRI) value for each month is given in its own column (113 months = 113 columns). For visualization, we'd like each **region - month combination to be its own row**.\n",
        "\n",
        "Look at the [Pandas cheatsheet]() to see what the relevant operation should be."
      ]
    },
    {
      "cell_type": "markdown",
      "metadata": {
        "id": "YUnmyt5oA1oY"
      },
      "source": [
        "![Pandas Cheatsheet](https://github.com/dt3zjy/node/blob/master/week-4/workshop/pd-reshape.png?raw=1)"
      ]
    },
    {
      "cell_type": "markdown",
      "metadata": {
        "id": "Mb3OIJxTA1oY"
      },
      "source": [
        "Let's use `pd.melt()` to move from wide to long, making sure to google to documentation along the way. Name it as ZRI\n",
        "\n",
        "To make this more tangible, our goal is to convert our wide data in the form of: \n",
        "<br>`RegionName | 2010-09 | 2010-10 | 2010-11 ... ` to the long form\n",
        "<br>`RegionName | Date | ZRI`.\n",
        "\n",
        "**Hint**: RegionID through SizeRank are all *ID variables*. This means that they are unique to each observation, and should not be dropped or pivoted in the transformation. "
      ]
    },
    {
      "cell_type": "code",
      "execution_count": null,
      "metadata": {
        "id": "JHCfuf64A1oY"
      },
      "outputs": [],
      "source": [
        ""
      ]
    },
    {
      "cell_type": "markdown",
      "metadata": {
        "id": "g22aZpzYA1oY"
      },
      "source": [
        "Let's take a look at a particular region, say Capitol Hill. "
      ]
    },
    {
      "cell_type": "code",
      "execution_count": null,
      "metadata": {
        "id": "McPHYAASA1oZ"
      },
      "outputs": [],
      "source": [
        ""
      ]
    },
    {
      "cell_type": "markdown",
      "metadata": {
        "id": "LFW1MLQVA1oZ"
      },
      "source": [
        "#### Interpolating Data"
      ]
    },
    {
      "cell_type": "markdown",
      "metadata": {
        "id": "FwupLzcXA1oZ"
      },
      "source": [
        "Because of missing datapoints, we have to interpolate some values, or make a best guess based on values before or after the gap"
      ]
    },
    {
      "cell_type": "code",
      "execution_count": null,
      "metadata": {
        "id": "1IEpgTYfA1oZ"
      },
      "outputs": [],
      "source": [
        "date_idx = pd.date_range(start='2011-01-01', end='2020-01-01', freq='MS')\n",
        "\n",
        "def fill_timeseries(df):\n",
        "    df2 = df.set_index(pd.to_datetime(df['Date'])).drop(columns='Date')\n",
        "    df3 = df2.reindex(date_idx, fill_value=np.nan)\n",
        "    return df3.reset_index()"
      ]
    },
    {
      "cell_type": "code",
      "execution_count": null,
      "metadata": {
        "id": "FwDbrBXPA1oZ"
      },
      "outputs": [],
      "source": [
        "ZRI2 = ZRI.groupby(by=['RegionID']).apply(fill_timeseries).reset_index(drop=True).rename(columns={'index':'Date'})\n",
        "ZRI2['ZRI'] = ZRI2.ZRI.interpolate(method='linear')\n",
        "ZRI2"
      ]
    },
    {
      "cell_type": "markdown",
      "metadata": {
        "id": "HD6U6qROA1oZ"
      },
      "source": [
        "### Making a Time Series Plot"
      ]
    },
    {
      "cell_type": "markdown",
      "metadata": {
        "id": "maaGR4QGA1oZ"
      },
      "source": [
        "Now that we've got data in a long format, we can easily use plotly express functions to create a time series. Say I'm interested in the following neighborhoods: `'Denny Triangle', 'First Hill', 'Capitol Hill', 'Belltown', 'Uptown'`. Plot the time trends, and make it pretty. "
      ]
    },
    {
      "cell_type": "code",
      "execution_count": null,
      "metadata": {
        "id": "GHjcsKoaA1oZ"
      },
      "outputs": [],
      "source": [
        ""
      ]
    },
    {
      "cell_type": "markdown",
      "metadata": {
        "tags": [],
        "id": "bHL0-KEkA1oa"
      },
      "source": [
        "## Advanced Topics: Geographic Plots"
      ]
    },
    {
      "cell_type": "markdown",
      "metadata": {
        "id": "9Nu9qO5FA1oa"
      },
      "source": [
        "There's quite a few different ways to show geogrpahical data, usually with choropleth charts or scatter plots.\n",
        "<br>Our friend Plotly has them all: https://plotly.com/python/maps/"
      ]
    },
    {
      "cell_type": "markdown",
      "metadata": {
        "id": "X0HA9QhLA1oa"
      },
      "source": [
        "A quick note about how this work before letting you leaf through the docs page.\n",
        "\n",
        "<br> Most of the params in `px.scatter_mapbox()` behave pretty similarly to `px.scatter`, except that we provide **latitude and longitude data** instead of `x` and `y`. Luckily, our dataset already has that included, but oftentimes we'll have to find a lookup table online to convert city names, for example, to lat / lon coordinates. \n",
        "\n",
        "<br>We don't necessarily have to provide a value to `size=`, but that usually can help highlight points of interest.\n",
        "<br> `zoom=` on the other hand, just changes how zoomed in the initial picture is when first loaded.\n",
        "\n",
        "<br>Finally, we'll have to update the `mapbox_style=` parameter of the figure to a specific base map to load. \n",
        "<br>For more information on what options are available here, check out https://plotly.com/python/mapbox-layers/"
      ]
    },
    {
      "cell_type": "code",
      "execution_count": null,
      "metadata": {
        "id": "dpnsJhJPA1oa"
      },
      "outputs": [],
      "source": [
        ""
      ]
    },
    {
      "cell_type": "code",
      "execution_count": null,
      "metadata": {
        "id": "8Y3cz-dBA1oa"
      },
      "outputs": [],
      "source": [
        ""
      ]
    },
    {
      "cell_type": "markdown",
      "metadata": {
        "id": "64z_HI4XA1oa"
      },
      "source": [
        "Show places in Downtown, Central Area, and Capitol Hill, and highlight those under budget"
      ]
    },
    {
      "cell_type": "code",
      "execution_count": null,
      "metadata": {
        "id": "jSBJyTnlA1oa"
      },
      "outputs": [],
      "source": [
        ""
      ]
    }
  ],
  "metadata": {
    "kernelspec": {
      "display_name": "Python 3",
      "language": "python",
      "name": "python3"
    },
    "language_info": {
      "codemirror_mode": {
        "name": "ipython",
        "version": 3
      },
      "file_extension": ".py",
      "mimetype": "text/x-python",
      "name": "python",
      "nbconvert_exporter": "python",
      "pygments_lexer": "ipython3",
      "version": "3.9.2"
    },
    "colab": {
      "name": "viz_notes.ipynb",
      "provenance": []
    }
  },
  "nbformat": 4,
  "nbformat_minor": 0
}